{
 "cells": [
  {
   "cell_type": "markdown",
   "metadata": {},
   "source": [
    "You'll be using the Dark Sky Forecast API from Forecast.io, available at https://developer.forecast.io. It's a pretty simple API, but be sure to read the documentation!\n",
    "\n",
    "### 1) Make a request from the Forecast.io API for where you were born (or lived, or want to visit!).\n",
    "\n",
    "Tip: Once you've imported the JSON into a variable, check the timezone's name to make sure it seems like it got the right part of the world!\n",
    "\n",
    "Tip 2: How is north vs. south and east vs. west latitude/longitude represented? Is it the normal North/South/East/West?"
   ]
  },
  {
   "cell_type": "code",
   "execution_count": 1,
   "metadata": {
    "collapsed": false
   },
   "outputs": [
    {
     "name": "stdout",
     "output_type": "stream",
     "text": [
      "<class 'dict'>\n",
      "The following dictionaries are available for further endeavours: dict_keys(['longitude', 'offset', 'currently', 'flags', 'timezone', 'hourly', 'latitude', 'daily'])\n",
      "The place selected is in the timezone: Europe/Berlin\n"
     ]
    }
   ],
   "source": [
    "#API key: e63bc0790517df7cd7bbb5f455e7f0ce\n",
    "#Place in decimal degrees: Berlin = {'Latitude': 52.5243700, 'Longitude': 13.4105300}\n",
    "import requests\n",
    "weather_response = requests.get ('https://api.forecast.io/forecast/e63bc0790517df7cd7bbb5f455e7f0ce/52.5243700,13.4105300')\n",
    "weather_data = weather_response.json()\n",
    "\n",
    "#STEP 1: Exploring the data stucture and checking whether correct place selected:\n",
    "print(type(weather_data))\n",
    "print(\"The following dictionaries are available for further endeavours:\", weather_data.keys())\n",
    "print(\"The place selected is in the timezone:\", weather_data['timezone'])"
   ]
  },
  {
   "cell_type": "markdown",
   "metadata": {},
   "source": [
    "### 2) What's the current wind speed? How much warmer does it feel than it actually is?"
   ]
  },
  {
   "cell_type": "code",
   "execution_count": 2,
   "metadata": {
    "collapsed": false
   },
   "outputs": [
    {
     "name": "stdout",
     "output_type": "stream",
     "text": [
      "The current wind speed  in Berlin is 3.22 miles per hour.\n",
      "The felt temperature of 67.45 degrees Fahrenheit is the same as the actual temperature of 67.45 degrees Fahrenheit.\n"
     ]
    }
   ],
   "source": [
    "weather_data_current = weather_data['currently']\n",
    "#print(weather_data_current.keys())\n",
    "\n",
    "print(\"The current wind speed  in Berlin is\", weather_data_current['windSpeed'], \"miles per hour.\")\n",
    "temperature_difference = weather_data_current['apparentTemperature'] - weather_data_current['temperature']\n",
    "if temperature_difference > 0:\n",
    "    print(\"The felt temperature is\", weather_data_current['apparentTemperature'], \"degrees Farenheit, whereas the actual temperature is\", weather_data_current['temperature'], \"degrees Fahrenheit. So it feels\", temperature_difference, \"degrees Fahrenheit warmer than it actually is.\" )\n",
    "if temperature_difference == 0:\n",
    "    print(\"The felt temperature of\", weather_data_current['apparentTemperature'], \"degrees Fahrenheit is the same as the actual temperature of\", weather_data_current['temperature'], \"degrees Fahrenheit.\")\n",
    "else:\n",
    "    print(\"The felt temperature is\", weather_data_current['apparentTemperature'], \"degrees Farenheit, whereas the actual temperature is\", weather_data_current['temperature'], \"degrees Fahrenheit. So it feels\", temperature_difference, \"degrees Fahrenheit colder than it actually is.\" )"
   ]
  },
  {
   "cell_type": "markdown",
   "metadata": {},
   "source": [
    "### 3) The first daily forecast is the forecast for today. For the place you decided on up above, how much of the moon is currently visible?"
   ]
  },
  {
   "cell_type": "code",
   "execution_count": 3,
   "metadata": {
    "collapsed": false
   },
   "outputs": [
    {
     "name": "stdout",
     "output_type": "stream",
     "text": [
      "Something between a quarter of the moon and a full moon is visible in Berlin, this phase is called waxing gibbous.\n"
     ]
    }
   ],
   "source": [
    "#from the documentation:  a value of 0 corresponds to a new moon, 0.25 to a first quarter moon, 0.5 to a full moon, \n",
    "#and 0.75 to a last quarter moon. \n",
    "#The ranges in between these represent waxing crescent, waxing gibbous, waning gibbous, and waning crescent moons.\n",
    "\n",
    "weather_data_daily = weather_data['daily']\n",
    "#print(weather_data_daily.keys())\n",
    "weather_data_today = weather_data_daily['data'][0]\n",
    "#print(weather_data_today['moonPhase'])\n",
    "if weather_data_today['moonPhase'] == 0:\n",
    "    print(\"It's new moon, so no moon is currently visible in Berlin.\")\n",
    "if weather_data_today['moonPhase'] > 0 and weather_data_today['moonPhase'] < 0.25:\n",
    "    print(\"Something between nothing and a quarter of the moon is visible in Berlin, this phase is called waxing crescent.\")\n",
    "if weather_data_today['moonPhase'] == 0.25:\n",
    "    print(\"The first quarter of the moon is currently visible in Berlin.\")\n",
    "if weather_data_today['moonPhase'] > 0.25 and weather_data_today['moonPhase'] < 0.5:\n",
    "    print(\"Something between a quarter of the moon and a full moon is visible in Berlin, this phase is called waxing gibbous.\")\n",
    "if weather_data_today['moonPhase'] == 0.5:\n",
    "    print(\"It's a full moon that is visible in Berlin.\")\n",
    "if weather_data_today['moonPhase'] > 0.5 and weather_data_today['moonPhase'] < 0.75:\n",
    "    print(\"Something less than a full moon is visible in Berlin, but yet more than a quarter. This phase is called waning gibbous.\")\n",
    "if weather_data_today['moonPhase'] == 0.75:\n",
    "    print(\"The last quarter of the moon is currently visible in Berlin.\")\n",
    "if weather_data_today['moonPhase'] > 0.75:\n",
    "    print(\"Less than the moon's last quarter is visible in Berlin, soon there'll be new moon, this phase is called waning crescent.\")"
   ]
  },
  {
   "cell_type": "markdown",
   "metadata": {},
   "source": [
    "### 4) What's the difference between the high and low temperatures for today?"
   ]
  },
  {
   "cell_type": "code",
   "execution_count": 4,
   "metadata": {
    "collapsed": false
   },
   "outputs": [
    {
     "name": "stdout",
     "output_type": "stream",
     "text": [
      "The difference between the highest and lowest temperature today in Berlin is 15.790000000000006 degrees Fahrenheit.\n"
     ]
    }
   ],
   "source": [
    "#print(weather_data_today.keys())\n",
    "temp_min_max_diff = weather_data_today['temperatureMax'] - weather_data_today['temperatureMin']\n",
    "print(\"The difference between the highest and lowest temperature today in Berlin is\", temp_min_max_diff, \"degrees Fahrenheit.\")"
   ]
  },
  {
   "cell_type": "markdown",
   "metadata": {},
   "source": [
    "### 5) Loop through the daily forecast, printing out the next week's worth of predictions. \n",
    "I'd like to know the high temperature for each day, and \n",
    "whether it's hot, warm, or cold, \n",
    "based on what temperatures you think are hot, warm or cold."
   ]
  },
  {
   "cell_type": "code",
   "execution_count": 5,
   "metadata": {
    "collapsed": false
   },
   "outputs": [
    {
     "name": "stdout",
     "output_type": "stream",
     "text": [
      "The maximum temperature in Berlin today is 70.65 degrees Fahrenheit.\n",
      "That's nicely warm!\n",
      "The maximum temperature in Berlin 1 day from now is 73.59 degrees Fahrenheit.\n",
      "That's nicely warm!\n",
      "The maximum temperature in Berlin 2 days from now is 74.79 degrees Fahrenheit.\n",
      "That's nicely warm!\n",
      "The maximum temperature in Berlin 3 days from now is 73.91 degrees Fahrenheit.\n",
      "That's nicely warm!\n",
      "The maximum temperature in Berlin 4 days from now is 78.31 degrees Fahrenheit.\n",
      "That's nicely warm!\n",
      "The maximum temperature in Berlin 5 days from now is 84.09 degrees Fahrenheit.\n",
      "That's quite hot!\n",
      "The maximum temperature in Berlin 6 days from now is 88.05 degrees Fahrenheit.\n",
      "That's quite hot!\n",
      "The maximum temperature in Berlin 7 days from now is 90.25 degrees Fahrenheit.\n",
      "That's quite hot!\n"
     ]
    }
   ],
   "source": [
    "weather_forecast = weather_data['daily']['data']\n",
    "hot_threshold = 80\n",
    "cold_threshold = 68\n",
    "\n",
    "day_count = 0\n",
    "for day in weather_forecast:\n",
    "    if day_count == 0:\n",
    "        day_temp_max = day['temperatureMax']\n",
    "        print(\"The maximum temperature in Berlin today is\", day_temp_max, \"degrees Fahrenheit.\")\n",
    "        day_count = day_count + 1\n",
    "    elif day_count == 1:\n",
    "        day_temp_max = day['temperatureMax']\n",
    "        print(\"The maximum temperature in Berlin\", day_count, \"day from now is\", day_temp_max, \"degrees Fahrenheit.\")\n",
    "        day_count = day_count + 1\n",
    "    elif day_count > 1:\n",
    "        day_temp_max = day['temperatureMax']\n",
    "        print(\"The maximum temperature in Berlin\", day_count, \"days from now is\", day_temp_max, \"degrees Fahrenheit.\")\n",
    "        day_count = day_count + 1\n",
    "    if day_temp_max > hot_threshold:\n",
    "        print(\"That's quite hot!\")\n",
    "    if day_temp_max > cold_threshold and day_temp_max < hot_threshold:\n",
    "        print(\"That's nicely warm!\")\n",
    "    if day_temp_max < cold_threshold:\n",
    "        print(\"That's pretty chilly!\")"
   ]
  },
  {
   "cell_type": "markdown",
   "metadata": {},
   "source": [
    "### 6) What's the weather looking like for the rest of today in Miami, Florida? I'd like to know the temperature for every hour, and if it's going to have cloud cover of more than 0.5 say \"{temperature} and cloudy\" instead of just the temperature."
   ]
  },
  {
   "cell_type": "code",
   "execution_count": 6,
   "metadata": {
    "collapsed": false
   },
   "outputs": [
    {
     "name": "stdout",
     "output_type": "stream",
     "text": [
      "{'apparentTemperature': 99.65, 'temperature': 91.87, 'precipIntensity': 0.005, 'dewPoint': 71.95, 'precipProbability': 0.2, 'visibility': 10, 'icon': 'rain', 'time': 1466269200, 'windBearing': 288, 'humidity': 0.52, 'windSpeed': 1.67, 'ozone': 287.3, 'precipType': 'rain', 'cloudCover': 0.09, 'summary': 'Drizzle', 'pressure': 1017.47}\n"
     ]
    }
   ],
   "source": [
    "#Place in decimal degrees: Miami = {'Latitude': 25.7742700, 'Longitude': -80.1936600}\n",
    "import requests\n",
    "weather_Miami_response = requests.get ('https://api.forecast.io/forecast/e63bc0790517df7cd7bbb5f455e7f0ce/25.7742700,-80.1936600')\n",
    "weather_Miami_data = weather_Miami_response.json()\n",
    "#print(weather_Miami_data['timezone'])\n",
    "#print(weather_Miami_data.keys())\n",
    "\n",
    "weather_data_Miami_day = weather_Miami_data['hourly']['data']\n",
    "print(weather_data_Miami_day[0])\n",
    "#print(weather_data_Miami_current.keys())"
   ]
  },
  {
   "cell_type": "code",
   "execution_count": 7,
   "metadata": {
    "collapsed": false
   },
   "outputs": [
    {
     "name": "stdout",
     "output_type": "stream",
     "text": [
      "0 hours past midnight it's 91.87 degrees Fahrenheit.\n",
      "1 hours past midnight it's 92.4 degrees Fahrenheit.\n",
      "2 hours past midnight it's 91.94 degrees Fahrenheit.\n",
      "3 hours past midnight it's 91.1 degrees Fahrenheit and cloudy.\n",
      "4 hours past midnight it's 89.67 degrees Fahrenheit and cloudy.\n",
      "5 hours past midnight it's 88.04 degrees Fahrenheit and cloudy.\n",
      "6 hours past midnight it's 86.1 degrees Fahrenheit and cloudy.\n",
      "7 hours past midnight it's 85.01 degrees Fahrenheit and cloudy.\n",
      "8 hours past midnight it's 83.44 degrees Fahrenheit and cloudy.\n",
      "9 hours past midnight it's 83.02 degrees Fahrenheit and cloudy.\n",
      "10 hours past midnight it's 82.15 degrees Fahrenheit and cloudy.\n",
      "11 hours past midnight it's 81.78 degrees Fahrenheit and cloudy.\n",
      "12 hours past midnight it's 81.25 degrees Fahrenheit and cloudy.\n",
      "13 hours past midnight it's 80.32 degrees Fahrenheit and cloudy.\n",
      "14 hours past midnight it's 79.57 degrees Fahrenheit and cloudy.\n",
      "15 hours past midnight it's 78.46 degrees Fahrenheit.\n",
      "16 hours past midnight it's 77.79 degrees Fahrenheit.\n",
      "17 hours past midnight it's 77.4 degrees Fahrenheit.\n",
      "18 hours past midnight it's 78.63 degrees Fahrenheit and cloudy.\n",
      "19 hours past midnight it's 80.32 degrees Fahrenheit.\n",
      "20 hours past midnight it's 82.02 degrees Fahrenheit and cloudy.\n",
      "21 hours past midnight it's 84.47 degrees Fahrenheit and cloudy.\n",
      "22 hours past midnight it's 87.13 degrees Fahrenheit.\n",
      "23 hours past midnight it's 89.21 degrees Fahrenheit and cloudy.\n",
      "24 hours past midnight it's 88.65 degrees Fahrenheit.\n"
     ]
    }
   ],
   "source": [
    "hour_count = 0\n",
    "for hour in weather_data_Miami_day:\n",
    "    #limiting results to the current day, otherwise it would run until midnight of the following day\n",
    "    if hour_count <= 24:\n",
    "        if hour['cloudCover'] > 0.5:\n",
    "            print(hour_count, \"hours past midnight it's\", hour['temperature'], \"degrees Fahrenheit and cloudy.\")\n",
    "            hour_count = hour_count + 1\n",
    "        else:\n",
    "            print(hour_count, \"hours past midnight it's\", hour['temperature'], \"degrees Fahrenheit.\")\n",
    "            hour_count = hour_count + 1"
   ]
  },
  {
   "cell_type": "markdown",
   "metadata": {},
   "source": [
    "### 7) What was the temperature in Central Park on Christmas Day, 1980? How about 1990? 2000?\n",
    "\n",
    "Tip: You'll need to use UNIX time, which is the number of seconds since January 1, 1970. Google can help you convert a normal date!"
   ]
  },
  {
   "cell_type": "code",
   "execution_count": 8,
   "metadata": {
    "collapsed": false
   },
   "outputs": [
    {
     "name": "stdout",
     "output_type": "stream",
     "text": [
      "The temperature in Central Park on Christmas Day in 1980 was 14.97 degrees Fahrenheit.\n",
      "The temperature in Central Park on Christmas Day in 1990 was 25.48 degrees Fahrenheit.\n",
      "The temperature in Central Park on Christmas Day in 2000 was 21.76 degrees Fahrenheit.\n"
     ]
    }
   ],
   "source": [
    "# Central Park: Latitude:40.769362 Longitude: -73.9779°\n",
    "dates = [{'date': '1980', 'unix': 346588200},\n",
    "         {'date': '1990', 'unix': 662121000},\n",
    "         {'date': '2000', 'unix': 977740200}\n",
    "        ]\n",
    "\n",
    "for timepoint in dates:\n",
    "    weather_central_response = requests.get('https://api.forecast.io/forecast/e63bc0790517df7cd7bbb5f455e7f0ce/40.769362,-73.9779,'+ str(timepoint['unix']) +'')\n",
    "    weather_central_data = weather_central_response.json()\n",
    "    #print(weather_central_data.keys())\n",
    "    #print(weather_central_data['timezone'])\n",
    "\n",
    "    #From the documentation: \"The currently data point will refer to the time provided, rather than the current time.\"\n",
    "    weather_central_christmas = weather_central_data['currently']\n",
    "    print(\"The temperature in Central Park on Christmas Day in\", timepoint['date'], \"was\", weather_central_christmas['temperature'], \"degrees Fahrenheit.\")"
   ]
  },
  {
   "cell_type": "code",
   "execution_count": null,
   "metadata": {
    "collapsed": true
   },
   "outputs": [],
   "source": []
  }
 ],
 "metadata": {
  "kernelspec": {
   "display_name": "Python 3",
   "language": "python",
   "name": "python3"
  },
  "language_info": {
   "codemirror_mode": {
    "name": "ipython",
    "version": 3
   },
   "file_extension": ".py",
   "mimetype": "text/x-python",
   "name": "python",
   "nbconvert_exporter": "python",
   "pygments_lexer": "ipython3",
   "version": "3.5.1"
  }
 },
 "nbformat": 4,
 "nbformat_minor": 0
}
