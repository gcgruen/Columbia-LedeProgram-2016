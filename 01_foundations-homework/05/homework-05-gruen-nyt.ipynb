{
 "cells": [
  {
   "cell_type": "markdown",
   "metadata": {
    "collapsed": true
   },
   "source": [
    "All API's: http://developer.nytimes.com/\n",
    "Article search API: http://developer.nytimes.com/article_search_v2.json\n",
    "Best-seller API: http://developer.nytimes.com/books_api.json#/Documentation\n",
    "Test/build queries: http://developer.nytimes.com/\n",
    "\n",
    "Tip: Remember to include your API key in all requests! And their interactive web thing is pretty bad. You'll need to register for the API key.\n",
    "\n",
    "### 1) What books topped the Hardcover Fiction NYT best-sellers list on Mother's Day in 2009 and 2010? How about Father's Day?"
   ]
  },
  {
   "cell_type": "code",
   "execution_count": 1,
   "metadata": {
    "collapsed": true
   },
   "outputs": [],
   "source": [
    "#API Key: yourkey"
   ]
  },
  {
   "cell_type": "code",
   "execution_count": null,
   "metadata": {
    "collapsed": true
   },
   "outputs": [],
   "source": []
  },
  {
   "cell_type": "code",
   "execution_count": 2,
   "metadata": {
    "collapsed": false
   },
   "outputs": [
    {
     "name": "stdout",
     "output_type": "stream",
     "text": [
      "The type of bestseller_data is: <class 'dict'>\n",
      "The keys of bestseller_data are: dict_keys(['copyright', 'results', 'last_modified', 'num_results', 'status'])\n"
     ]
    }
   ],
   "source": [
    "import requests\n",
    "bestseller_response = requests.get('http://api.nytimes.com/svc/books/v2/lists/2009-05-10/hardcover-fiction?api-key=yourkey')\n",
    "bestseller_data = bestseller_response.json()\n",
    "print(\"The type of bestseller_data is:\", type(bestseller_data))\n",
    "print(\"The keys of bestseller_data are:\", bestseller_data.keys())"
   ]
  },
  {
   "cell_type": "code",
   "execution_count": 3,
   "metadata": {
    "collapsed": false
   },
   "outputs": [
    {
     "name": "stdout",
     "output_type": "stream",
     "text": [
      "<class 'list'>\n",
      "{'display_name': 'Hardcover Fiction', 'list_name_encoded': 'hardcover-fiction', 'isbns': [{'isbn13': '9780446539746', 'isbn10': '0446539740'}], 'list_name': 'Hardcover Fiction', 'normal_list_ends_at': 16, 'bestsellers_date': '2009-04-25', 'published_date_range': '2008-06-08:2016-06-26', 'list_image': '9780446539746.jpg', 'published_date': '2009-05-10', 'rank': 1, 'reviews': [{'first_chapter_link': '', 'sunday_review_link': '', 'book_review_link': '', 'article_chapter_link': ''}], 'dagger': 0, 'rank_last_week': 0, 'weeks_on_list': 1, 'list_image_width': 279, 'updated': 'WEEKLY', 'list_image_height': 500, 'asterisk': 0, 'book_details': [{'price': 27.99, 'title': 'FIRST FAMILY', 'publisher': 'Grand Central', 'book_image': 'https://s1.nyt.com/du/books/images/9780446539746.jpg', 'primary_isbn13': '9780446546959', 'contributor_note': '', 'description': 'Former Secret Service agents, now P.I.’s, search for a child abducted from a party at Camp David.', 'amazon_product_url': 'http://www.amazon.com/First-Family-Maxwell-David-Baldacci/dp/0446539740?tag=thenewyorktim-20', 'contributor': 'by David Baldacci', 'primary_isbn10': '044654695X', 'author': 'David Baldacci', 'age_group': ''}]}\n"
     ]
    }
   ],
   "source": [
    "# Exploring the data structure further\n",
    "bestseller_books = bestseller_data['results']\n",
    "print(type(bestseller_books))\n",
    "print(bestseller_books[0])"
   ]
  },
  {
   "cell_type": "code",
   "execution_count": 4,
   "metadata": {
    "collapsed": false
   },
   "outputs": [
    {
     "name": "stdout",
     "output_type": "stream",
     "text": [
      "The book that topped the hardcover fiction NYT Beststeller list on Mothers Day in 2009 was FIRST FAMILY written by David Baldacci\n"
     ]
    }
   ],
   "source": [
    "for book in bestseller_books:\n",
    "    #print(\"NEW BOOK!!!\")\n",
    "    #print(book['book_details'])\n",
    "    #print(book['rank'])\n",
    "    if book['rank'] == 1:\n",
    "        for element in book['book_details']:\n",
    "            print(\"The book that topped the hardcover fiction NYT Beststeller list on Mothers Day in 2009 was\", element['title'], \"written by\", element['author'])"
   ]
  },
  {
   "cell_type": "markdown",
   "metadata": {},
   "source": [
    "#### After writing a code that returns a result, now automating that for the various dates using a function:"
   ]
  },
  {
   "cell_type": "code",
   "execution_count": 5,
   "metadata": {
    "collapsed": false
   },
   "outputs": [
    {
     "name": "stdout",
     "output_type": "stream",
     "text": [
      "The book that topped the hardcover fiction NYT Beststeller list on Mothers Day 2009 was FIRST FAMILY written by David Baldacci\n",
      "The book that topped the hardcover fiction NYT Beststeller list on Mothers Day 2010 was DELIVER US FROM EVIL written by David Baldacci\n",
      "The book that topped the hardcover fiction NYT Beststeller list on Fathers Day 2009 was SKIN TRADE written by Laurell K Hamilton\n",
      "The book that topped the hardcover fiction NYT Beststeller list on Fathers Day 2010 was THE GIRL WHO KICKED THE HORNET’S NEST written by Stieg Larsson\n"
     ]
    }
   ],
   "source": [
    "def bestseller(x, y):\n",
    "    bestsellerA_response = requests.get('http://api.nytimes.com/svc/books/v2/lists/'+ x +'/hardcover-fiction?api-key=0c3ba2a8848c44eea6a3443a17e57448')\n",
    "    bestsellerA_data = bestsellerA_response.json()\n",
    "    bestsellerA_books = bestsellerA_data['results']\n",
    "    \n",
    "    for book in bestsellerA_books:\n",
    "        if book['rank'] == 1:\n",
    "            for element in book['book_details']:\n",
    "                print(\"The book that topped the hardcover fiction NYT Beststeller list on\", y, \"was\", \n",
    "                      element['title'], \"written by\", element['author'])\n",
    "\n",
    "bestseller('2009-05-10', \"Mothers Day 2009\")\n",
    "bestseller('2010-05-09', \"Mothers Day 2010\")\n",
    "bestseller('2009-06-21', \"Fathers Day 2009\")\n",
    "bestseller('2010-06-20', \"Fathers Day 2010\")\n",
    "\n",
    "#Alternative solution would be, instead of putting this code into a function to loop it: \n",
    "#1) to create a dictionary called dates containing y as keys and x as values to these keys\n",
    "#2) to take the above code and nest it into a for loop that loops through the dates, each time using the next key:value pair\n",
    "    # for date in dates:\n",
    "        # replace value in URL and run the above code used inside the function\n",
    "            # replace key in print statement"
   ]
  },
  {
   "cell_type": "markdown",
   "metadata": {},
   "source": [
    "### 2) What are all the different book categories the NYT ranked in June 6, 2009? How about June 6, 2015?"
   ]
  },
  {
   "cell_type": "code",
   "execution_count": 6,
   "metadata": {
    "collapsed": false
   },
   "outputs": [
    {
     "name": "stdout",
     "output_type": "stream",
     "text": [
      "<class 'dict'>\n",
      "dict_keys(['copyright', 'results', 'num_results', 'status'])\n",
      "<class 'list'>\n",
      "{'display_name': 'Combined Print & E-Book Fiction', 'list_name_encoded': 'combined-print-and-e-book-fiction', 'list_name': 'Combined Print and E-Book Fiction', 'updated': 'WEEKLY', 'newest_published_date': '2016-06-26', 'oldest_published_date': '2011-02-13'}\n"
     ]
    }
   ],
   "source": [
    "# STEP 1: Exploring the data structure using just one of the dates from the question\n",
    "bookcat_response = requests.get('http://api.nytimes.com/svc/books/v2/lists/names.json?published-date=2009-06-06&api-key=0c3ba2a8848c44eea6a3443a17e57448')\n",
    "bookcat_data = bookcat_response.json()\n",
    "print(type(bookcat_data))\n",
    "print(bookcat_data.keys())\n",
    "\n",
    "bookcat = bookcat_data['results']\n",
    "print(type(bookcat))\n",
    "print(bookcat[0])"
   ]
  },
  {
   "cell_type": "code",
   "execution_count": 7,
   "metadata": {
    "collapsed": false
   },
   "outputs": [
    {
     "name": "stdout",
     "output_type": "stream",
     "text": [
      "  \n",
      "THESE WERE THE DIFFERENT BOOK CATEGORIES THE NYT RANKED ON 2009-06-06\n",
      "Combined Print & E-Book Fiction\n",
      "Combined Print & E-Book Nonfiction\n",
      "Hardcover Fiction\n",
      "Hardcover Nonfiction\n",
      "Paperback Trade Fiction\n",
      "Paperback Mass-Market Fiction\n",
      "Paperback Nonfiction\n",
      "E-Book Fiction\n",
      "E-Book Nonfiction\n",
      "Hardcover Advice & Misc.\n",
      "Paperback Advice & Misc.\n",
      "Advice, How-To & Miscellaneous\n",
      "Children’s Chapter Books\n",
      "Children’s Middle Grade\n",
      "Children’s Middle Grade E-Book\n",
      "Children’s Middle Grade Hardcover\n",
      "Children’s Middle Grade Paperback\n",
      "Children’s Paperback Books\n",
      "Children’s Picture Books\n",
      "Children’s Series\n",
      "Young Adult\n",
      "Young Adult E-Book\n",
      "Young Adult Hardcover\n",
      "Young Adult Paperback\n",
      "Hardcover Graphic Books\n",
      "Paperback Graphic Books\n",
      "Manga\n",
      "Combined Hardcover & Paperback Fiction\n",
      "Combined Hardcover & Paperback Nonfiction\n",
      "Animals\n",
      "Business\n",
      "Celebrities\n",
      "Crime and Punishment\n",
      "Culture\n",
      "Education\n",
      "Espionage\n",
      "Expeditions\n",
      "Fashion, Manners and Customs\n",
      "Food and Diet\n",
      "Games and Activities\n",
      "Hardcover Business Books\n",
      "Health\n",
      "Humor\n",
      "Indigenous Americans\n",
      "Love and Relationships\n",
      "Paperback Business Books\n",
      "Parenthood and Family\n",
      "Politics and American History\n",
      "Race and Civil Rights\n",
      "Religion, Spirituality and Faith\n",
      "Science\n",
      "Sports and Fitness\n",
      "Travel\n",
      "  \n",
      "THESE WERE THE DIFFERENT BOOK CATEGORIES THE NYT RANKED ON 2015-06-15\n",
      "Combined Print & E-Book Fiction\n",
      "Combined Print & E-Book Nonfiction\n",
      "Hardcover Fiction\n",
      "Hardcover Nonfiction\n",
      "Paperback Trade Fiction\n",
      "Paperback Mass-Market Fiction\n",
      "Paperback Nonfiction\n",
      "E-Book Fiction\n",
      "E-Book Nonfiction\n",
      "Hardcover Advice & Misc.\n",
      "Paperback Advice & Misc.\n",
      "Advice, How-To & Miscellaneous\n",
      "Children’s Chapter Books\n",
      "Children’s Middle Grade\n",
      "Children’s Middle Grade E-Book\n",
      "Children’s Middle Grade Hardcover\n",
      "Children’s Middle Grade Paperback\n",
      "Children’s Paperback Books\n",
      "Children’s Picture Books\n",
      "Children’s Series\n",
      "Young Adult\n",
      "Young Adult E-Book\n",
      "Young Adult Hardcover\n",
      "Young Adult Paperback\n",
      "Hardcover Graphic Books\n",
      "Paperback Graphic Books\n",
      "Manga\n",
      "Combined Hardcover & Paperback Fiction\n",
      "Combined Hardcover & Paperback Nonfiction\n",
      "Animals\n",
      "Business\n",
      "Celebrities\n",
      "Crime and Punishment\n",
      "Culture\n",
      "Education\n",
      "Espionage\n",
      "Expeditions\n",
      "Fashion, Manners and Customs\n",
      "Food and Diet\n",
      "Games and Activities\n",
      "Hardcover Business Books\n",
      "Health\n",
      "Humor\n",
      "Indigenous Americans\n",
      "Love and Relationships\n",
      "Paperback Business Books\n",
      "Parenthood and Family\n",
      "Politics and American History\n",
      "Race and Civil Rights\n",
      "Religion, Spirituality and Faith\n",
      "Science\n",
      "Sports and Fitness\n",
      "Travel\n"
     ]
    }
   ],
   "source": [
    "# STEP 2: Writing a loop that runs the same code for both dates (no function, as only one variable)\n",
    "dates = ['2009-06-06', '2015-06-15']\n",
    "for date in dates:\n",
    "    bookcatN_response = requests.get('http://api.nytimes.com/svc/books/v2/lists/names.json?published-date=' + date + '&api-key=0c3ba2a8848c44eea6a3443a17e57448')\n",
    "    bookcatN_data = bookcatN_response.json()\n",
    "    bookcatN = bookcatN_data['results']\n",
    "    \n",
    "    category_listN = []\n",
    "    for category in bookcatN:\n",
    "        category_listN.append(category['display_name'])\n",
    "    print(\"  \")\n",
    "    print(\"THESE WERE THE DIFFERENT BOOK CATEGORIES THE NYT RANKED ON\", date)\n",
    "    for cat in category_listN:\n",
    "        print(cat)"
   ]
  },
  {
   "cell_type": "code",
   "execution_count": 8,
   "metadata": {
    "collapsed": false
   },
   "outputs": [
    {
     "name": "stdout",
     "output_type": "stream",
     "text": [
      "<class 'dict'>\n",
      "dict_keys(['copyright', 'response', 'status'])\n",
      "<class 'dict'>\n",
      "dict_keys(['meta', 'docs'])\n"
     ]
    }
   ],
   "source": [
    "# STEP 1a: EXPLORING THE DATA\n",
    "\n",
    "test_response = requests.get('http://api.nytimes.com/svc/search/v2/articlesearch.json?q=Gaddafi+Libya&api-key=0c3ba2a8848c44eea6a3443a17e57448')\n",
    "test_data = test_response.json()\n",
    "print(type(test_data))\n",
    "print(test_data.keys())\n",
    "\n",
    "test_hits = test_data['response']\n",
    "print(type(test_hits))\n",
    "print(test_hits.keys())"
   ]
  },
  {
   "cell_type": "code",
   "execution_count": 9,
   "metadata": {
    "collapsed": false
   },
   "outputs": [
    {
     "name": "stdout",
     "output_type": "stream",
     "text": [
      "The meta data of the search request is a <class 'dict'>\n",
      "The dictionary despot_hits_meta has the following keys: dict_keys(['time', 'hits', 'offset'])\n",
      "The search requests with the TEST URL yields total:\n",
      "1080\n"
     ]
    }
   ],
   "source": [
    "# STEP 1b: EXPLORING THE META DATA\n",
    "\n",
    "test_hits_meta = test_data['response']['meta']\n",
    "print(\"The meta data of the search request is a\", type(test_hits_meta))\n",
    "print(\"The dictionary despot_hits_meta has the following keys:\", test_hits_meta.keys())\n",
    "print(\"The search requests with the TEST URL yields total:\")\n",
    "test_hit_count = test_hits_meta['hits']\n",
    "print(test_hit_count)"
   ]
  },
  {
   "cell_type": "code",
   "execution_count": 10,
   "metadata": {
    "collapsed": false
   },
   "outputs": [
    {
     "name": "stdout",
     "output_type": "stream",
     "text": [
      "The NYT has referred to the Libyan despot 0 times using the spelling Gadafi\n",
      "The NYT has referred to the Libyan despot 1080 times using the spelling Gaddafi\n",
      "The NYT has referred to the Libyan despot 4 times using the spelling Kadafi\n",
      "The NYT has referred to the Libyan despot 5761 times using the spelling Qaddafi\n"
     ]
    }
   ],
   "source": [
    "# STEP 2: BUILDING THE CODE TO LOOP THROUGH DIFFERENT SPELLINGS\n",
    "despot_names = ['Gadafi', 'Gaddafi', 'Kadafi', 'Qaddafi']\n",
    "\n",
    "for name in despot_names:\n",
    "    despot_response = requests.get('http://api.nytimes.com/svc/search/v2/articlesearch.json?q=' + name +'+Libya&api-key=0c3ba2a8848c44eea6a3443a17e57448')\n",
    "    despot_data = despot_response.json()\n",
    "       \n",
    "    despot_hits_meta = despot_data['response']['meta']\n",
    "    despot_hit_count = despot_hits_meta['hits']\n",
    "    print(\"The NYT has referred to the Libyan despot\", despot_hit_count, \"times using the spelling\", name)"
   ]
  },
  {
   "cell_type": "markdown",
   "metadata": {},
   "source": [
    "### 4) What's the title of the first story to mention the word 'hipster' in 1995? What's the first paragraph?\n",
    "\n"
   ]
  },
  {
   "cell_type": "code",
   "execution_count": 11,
   "metadata": {
    "collapsed": false
   },
   "outputs": [
    {
     "name": "stdout",
     "output_type": "stream",
     "text": [
      "<class 'dict'>\n",
      "dict_keys(['copyright', 'response', 'status'])\n",
      "dict_keys(['pub_date', 'headline', 'multimedia', 'byline', 'blog', 'lead_paragraph', 'source', '_id', 'word_count', 'type_of_material', 'abstract', 'news_desk', 'document_type', 'keywords', 'section_name', 'web_url', 'subsection_name', 'print_page', 'snippet', 'slideshow_credits'])\n"
     ]
    }
   ],
   "source": [
    "hip_response = requests.get('http://api.nytimes.com/svc/search/v2/articlesearch.json?q=hipster&fq=pub_year:1995&api-key=0c3ba2a8848c44eea6a3443a17e57448')\n",
    "hip_data = hip_response.json()\n",
    "print(type(hip_data))\n",
    "print(hip_data.keys())\n",
    "\n",
    "# STEP 1: EXPLORING THE DATA STRUCTURE:\n",
    "\n",
    "hipsters = hip_data['response']\n",
    "#print(hipsters)\n",
    "#hipsters_meta = hipsters['meta']\n",
    "#print(type(hipsters_meta))\n",
    "hipsters_results = hipsters['docs']\n",
    "print(hipsters_results[0].keys())\n",
    "#print(type(hipsters_results))"
   ]
  },
  {
   "cell_type": "code",
   "execution_count": 12,
   "metadata": {
    "collapsed": false
   },
   "outputs": [
    {
     "name": "stdout",
     "output_type": "stream",
     "text": [
      "This is the headline of the first text to mention 'hipster' in 1995: SOUND\n",
      "It was published on: 1995-02-05T00:00:00Z\n",
      "This is its lead paragraph:\n",
      "Portable record players with built-in speakers, from the 1960's, are the latest points on hipster score cards. In some cases, they are the only way to listen to many of the old LP or 45-r.p.m. recordings still around but not released on cassette or CD. Usually available in white plastic or metal, they can be found in flea markets and secondhand stores. One style has the arm cast in the shape of a cobra. (Don Hogan Charles/The New York Times)\n"
     ]
    }
   ],
   "source": [
    "#STEP 2: LOOPING FOR THE ANSWER:\n",
    "\n",
    "earliest_date = '1996-01-01'\n",
    "for mention in hipsters_results:\n",
    "    if mention['pub_date'] < earliest_date:\n",
    "        earliest_date = mention['pub_date']\n",
    "        print(\"This is the headline of the first text to mention 'hipster' in 1995:\", mention['headline']['main'])\n",
    "        print(\"It was published on:\", mention['pub_date']) \n",
    "        print(\"This is its lead paragraph:\")\n",
    "        print(mention['lead_paragraph'])"
   ]
  },
  {
   "cell_type": "markdown",
   "metadata": {},
   "source": [
    "### 5) How many times was gay marriage mentioned in the NYT between 1950-1959, 1960-1969, 1970-1978, 1980-1989, 1990-2099, 2000-2009, and 2010-present?\n",
    "\n",
    "Tip: You'll want to put quotes around the search term so it isn't just looking for \"gay\" and \"marriage\" in the same article.\n",
    "\n",
    "Tip: Write code to find the number of mentions between Jan 1, 1950 and Dec 31, 1959."
   ]
  },
  {
   "cell_type": "code",
   "execution_count": 13,
   "metadata": {
    "collapsed": false
   },
   "outputs": [
    {
     "name": "stdout",
     "output_type": "stream",
     "text": [
      "The count for NYT articles mentioning 'gay marriage' between 1950 and 1959 is 0\n",
      "The count for NYT articles mentioning 'gay marriage' between 1960 and 1969 is 0\n",
      "The count for NYT articles mentioning 'gay marriage' between 1970 and 1979 is 0\n",
      "The count for NYT articles mentioning 'gay marriage' between 1980 and 1989 is 3\n",
      "The count for NYT articles mentioning 'gay marriage' between 1990 and 1999 is 138\n",
      "The count for NYT articles mentioning 'gay marriage' between 2000 and 2009 is 2513\n",
      "The count for NYT articles mentioning 'gay marriage' between 2010 and present is 4935\n"
     ]
    }
   ],
   "source": [
    "# data structure requested same as in task 3, just this time loop though different date ranges\n",
    "\n",
    "def countmention(a, b, c):\n",
    "    if b == ' ':\n",
    "        marry_response = requests.get('http://api.nytimes.com/svc/search/v2/articlesearch.json?q=\"gay marriage\"&begin_date='+ a +'&api-key=0c3ba2a8848c44eea6a3443a17e57448')\n",
    "    else:\n",
    "        marry_response = requests.get('http://api.nytimes.com/svc/search/v2/articlesearch.json?q=\"gay marriage\"&begin_date='+ a +'&end_date='+ b +'&api-key=0c3ba2a8848c44eea6a3443a17e57448')\n",
    "    \n",
    "    marry_data = marry_response.json()\n",
    "\n",
    "    marry_hits_meta = marry_data['response']['meta']\n",
    "    marry_hit_count = marry_hits_meta['hits']\n",
    "    print(\"The count for NYT articles mentioning 'gay marriage' between\", c, \"is\", marry_hit_count)\n",
    "\n",
    "#supposedly, there's a way to solve the following part in a more efficient way, but those I tried did not work, \n",
    "#so it ended up being more time-efficient just to type it:\n",
    "countmention('19500101', '19591231', '1950 and 1959')\n",
    "countmention('19600101', '19691231', '1960 and 1969')\n",
    "countmention('19700101', '19791231', '1970 and 1979')\n",
    "countmention('19800101', '19891231', '1980 and 1989')\n",
    "countmention('19900101', '19991231', '1990 and 1999')\n",
    "countmention('20000101', '20091231', '2000 and 2009')\n",
    "countmention('20100101', ' ', '2010 and present')"
   ]
  },
  {
   "cell_type": "markdown",
   "metadata": {},
   "source": [
    "### 6) What section talks about motorcycles the most?\n",
    "\n",
    "Tip: You'll be using facets"
   ]
  },
  {
   "cell_type": "code",
   "execution_count": 14,
   "metadata": {
    "collapsed": false
   },
   "outputs": [
    {
     "name": "stdout",
     "output_type": "stream",
     "text": [
      "The section World mentions motorcycles 1807 times.\n",
      "The section U.S. mentions motorcycles 1296 times.\n",
      "The section Sports mentions motorcycles 1140 times.\n",
      "The section New York and Region mentions motorcycles 1025 times.\n",
      "The section Arts mentions motorcycles 929 times.\n",
      "   \n",
      "That means the section World mentions motorcycles the most, namely 1807 times.\n"
     ]
    }
   ],
   "source": [
    "moto_response = requests.get('http://api.nytimes.com/svc/search/v2/articlesearch.json?q=motorcycle&facet_field=section_name&facet_filter=true&api-key=0c3ba2a8848c44eea6a3443a17e57448')\n",
    "moto_data = moto_response.json()\n",
    "\n",
    "#STEP 1: EXPLORING DATA STRUCTURE\n",
    "#print(type(moto_data))\n",
    "#print(moto_data.keys())\n",
    "#print(moto_data['response'])\n",
    "#print(moto_data['response'].keys())\n",
    "#print(moto_data['response']['facets'])\n",
    "\n",
    "#STEP 2: Code to get to the answer\n",
    "moto_facets = moto_data['response']['facets']\n",
    "#print(moto_facets)\n",
    "#print(moto_facets.keys())\n",
    "moto_sections = moto_facets['section_name']['terms']\n",
    "#print(moto_sections)\n",
    "\n",
    "#this for loop is not necessary, but it's nice to know the counts \n",
    "#(also to check whether the next loop identifies the right section)\n",
    "for section in moto_sections:\n",
    "    print(\"The section\", section['term'], \"mentions motorcycles\", section['count'], \"times.\")\n",
    "\n",
    "most_motorcycles = 0\n",
    "for section in moto_sections:\n",
    "    if section['count'] > most_motorcycles:\n",
    "        most_motorcycles = section['count']\n",
    "        print(\"   \")\n",
    "        print(\"That means the section\", section['term'], \"mentions motorcycles the most, namely\", section['count'], \"times.\")"
   ]
  },
  {
   "cell_type": "markdown",
   "metadata": {},
   "source": [
    "### 7) How many of the last 20 movies reviewed by the NYT were Critics' Picks? How about the last 40? The last 60?\n",
    "\n",
    "Tip: You really don't want to do this 3 separate times (1-20, 21-40 and 41-60) and add them together. What if, perhaps, you were able to figure out how to combine two lists? Then you could have a 1-20 list, a 1-40 list, and a 1-60 list, and then just run similar code for each of them."
   ]
  },
  {
   "cell_type": "code",
   "execution_count": 15,
   "metadata": {
    "collapsed": false
   },
   "outputs": [
    {
     "name": "stdout",
     "output_type": "stream",
     "text": [
      "Out of the last 20 movie reviews, 8 were Critics' picks.\n",
      "Out of the last 40 movie reviews, 14 were Critics' picks.\n",
      "Out of the last 60 movie reviews, 22 were Critics' picks.\n"
     ]
    }
   ],
   "source": [
    "picks_offset_values = [0, 20, 40]\n",
    "picks_review_list = []\n",
    "\n",
    "for value in picks_offset_values:\n",
    "    picks_response = requests.get ('http://api.nytimes.com/svc/movies/v2/reviews/search.json?&offset=' + str(value) + '&api-key=0c3ba2a8848c44eea6a3443a17e57448')\n",
    "    picks_data = picks_response.json()\n",
    "\n",
    "#STEP 1: EXPLORING THE DATA STRUCTURE (without the loop)\n",
    "\n",
    "#print(picks_data.keys())\n",
    "#print(picks_data['num_results'])\n",
    "#print(picks_data['results'])\n",
    "#print(type(picks_data['results']))\n",
    "#print(picks_data['results'][0].keys())\n",
    "\n",
    "#STEP 2: After writing a test code (not shown) without the loop, now CODING THE LOOP\n",
    "\n",
    "    last_reviews = picks_data['num_results']\n",
    "    picks_results = picks_data['results']\n",
    "   \n",
    "    critics_pick_count = 0\n",
    "    for review in picks_results:\n",
    "        if review['critics_pick'] == 1:\n",
    "            critics_pick_count = critics_pick_count + 1\n",
    "        picks_new_count = critics_pick_count \n",
    "    picks_review_list.append(picks_new_count)\n",
    "    print(\"Out of the last\", last_reviews + value, \"movie reviews,\", sum(picks_review_list), \"were Critics' picks.\")"
   ]
  },
  {
   "cell_type": "markdown",
   "metadata": {
    "collapsed": true
   },
   "source": [
    "### 8) Out of the last 40 movie reviews from the NYT, which critic has written the most reviews?"
   ]
  },
  {
   "cell_type": "code",
   "execution_count": 16,
   "metadata": {
    "collapsed": false
   },
   "outputs": [
    {
     "name": "stdout",
     "output_type": "stream",
     "text": [
      "A. O. SCOTT has written the most of the last 40 reviews: 6\n",
      "A. O. SCOTT has written the most of the last 40 reviews: 6\n"
     ]
    }
   ],
   "source": [
    "#STEP 1: EXPLORING THE DATA STRUCTURE (without the loop)\n",
    "#critics_response = requests.get('http://api.nytimes.com/svc/movies/v2/reviews/search.json?&offset=0&api-key=0c3ba2a8848c44eea6a3443a17e57448')\n",
    "#critics_data = critics_response.json()\n",
    "#print(critics_data.keys())\n",
    "#print(critics_data['num_results'])\n",
    "#print(critics_data['results'])\n",
    "#print(type(critics_data['results']))\n",
    "#print(critics_data['results'][0].keys())\n",
    "\n",
    "#STEP 2: CREATE A LOOP, THAT GOES THROUGH THE SEARCH RESULTS FOR EACH OFFSET VALUE AND STORES THE RESULTS IN THE SAME LIST\n",
    "#(That list is then passed on to step 3)\n",
    "\n",
    "critics_offset_value = [0, 20]\n",
    "critics_list = [ ]\n",
    "for value in critics_offset_value:\n",
    "    critics_response = requests.get('http://api.nytimes.com/svc/movies/v2/reviews/search.json?&offset=' + str(value) + '&api-key=0c3ba2a8848c44eea6a3443a17e57448')\n",
    "    critics_data = critics_response.json()\n",
    "    \n",
    "    critics = critics_data['results']\n",
    "\n",
    "    for review in critics:\n",
    "        critics_list.append(review['byline'])\n",
    "    #print(critics_list)\n",
    "unique_critics = set(critics_list)\n",
    "#print(unique_critics)\n",
    "    \n",
    "#STEP 3: FOR EVERY NAME IN THE UNIQUE CRITICS LIST, LOOP THROUGH NON-UNIQUE LIST TO COUNT HOW OFTEN THEY OCCUR\n",
    "#STEP 4: SELECT THE ONE THAT HAS WRITTEN THE MOST (from the #print statement below, I know it's two people with same score)\n",
    "\n",
    "max_count = 0\n",
    "for name in unique_critics:\n",
    "    name_count = 0\n",
    "    for critic in critics_list:\n",
    "        if critic == name:\n",
    "            name_count = name_count + 1\n",
    "        if name_count > max_count:\n",
    "            max_count = name_count\n",
    "            max_name = name\n",
    "        if name_count == max_count:\n",
    "            same_count = name_count\n",
    "            same_name = name\n",
    "    #print(name, \"has written\", name_count, \"reviews out of the last 40 reviews.\")\n",
    "print(max_name, \"has written the most of the last 40 reviews:\", max_count)\n",
    "print(same_name, \"has written the most of the last 40 reviews:\", same_count)"
   ]
  }
 ],
 "metadata": {
  "kernelspec": {
   "display_name": "Python 3",
   "language": "python",
   "name": "python3"
  },
  "language_info": {
   "codemirror_mode": {
    "name": "ipython",
    "version": 3
   },
   "file_extension": ".py",
   "mimetype": "text/x-python",
   "name": "python",
   "nbconvert_exporter": "python",
   "pygments_lexer": "ipython3",
   "version": "3.5.1"
  }
 },
 "nbformat": 4,
 "nbformat_minor": 0
}
