{
 "cells": [
  {
   "cell_type": "markdown",
   "metadata": {},
   "source": [
    "TA-Stephan: Be careful about making sure 'partly cloudly' gets lower cased. And think about what the final message will look like: \"It's going to rain with a probability of 0 percent\" reads awkawardly. \n",
    "\n",
    "grade = 9/10"
   ]
  },
  {
   "cell_type": "code",
   "execution_count": 25,
   "metadata": {
    "collapsed": false
   },
   "outputs": [
    {
     "data": {
      "text/plain": [
       "[\"Right now it is 82.41 degrees out and Partly cloudy starting in the afternoon, continuing until evening. Today will be quite hot with a high of 83.11 degrees Fahrenheit and a low of 66.01 degrees Fahrenheit. It's going to rain with a probability of 0 percent so no need for an umbrella, but maybe pack sun glasses.\"]"
      ]
     },
     "execution_count": 25,
     "metadata": {},
     "output_type": "execute_result"
    }
   ],
   "source": [
    "#cronjob syntax running on server: 0 8 * * * python3 homework-10-gruen-apirequest.py\n",
    "\n",
    "#API key: yourapikey\n",
    "#Place in decimal degrees: NYC = {'Latitude': 40.7142700 , 'Longitude': -74.0059700}\n",
    "import requests\n",
    "weather_response = requests.get ('https://api.forecast.io/forecast/b13d69de93462682bf3c2d0231d54d92/40.7142700,-74.0059700')\n",
    "weather_data = weather_response.json()\n",
    "daily_weather = weather_data['daily']['data']\n",
    "\n",
    "#TEMPERATURE is the current temperature\n",
    "temperature = weather_data['currently']['temperature']\n",
    "\n",
    "#SUMMARY is what it currently looks like (partly cloudy, etc - it's \"summary\" in the dictionary). Lowercase, please.\n",
    "summary = daily_weather[0]['summary']\n",
    "\n",
    "#HIGH_TEMP is the high temperature for the day.\n",
    "high_temp = daily_weather[0]['temperatureMax']\n",
    "\n",
    "#LOW_TEMP is the low temperature for the day.\n",
    "low_temp = daily_weather[0]['temperatureMin']\n",
    "\n",
    "#TEMP_FEELING is whether it will be hot, warm, cold, or moderate. You will probably use HIGH_TEMP and your own thoughts and feelings to determine this.\n",
    "hot_threshold = 80\n",
    "cold_threshold = 68\n",
    "\n",
    "if high_temp > hot_threshold:\n",
    "    temp_feeling = \"quite hot\"\n",
    "if high_temp > cold_threshold and high_temp < hot_threshold:\n",
    "    temp_feeling = \"nicely warm\"\n",
    "if high_temp < cold_threshold:\n",
    "    temp_feeling = \"pretty chilly\"\n",
    "\n",
    "#rAIN_WARNING is something like \"bring your umbrella!\" if it is going to rain at some point during the day.\n",
    "rain_probability = daily_weather[0]['precipProbability']\n",
    "rain_likelihood = rain_probability * 100\n",
    "\n",
    "if rain_likelihood < 10:\n",
    "    rain_warning = \"no need for an umbrella, but maybe pack sun glasses.\"\n",
    "if rain_likelihood > 10 and rain_likelihood < 20:\n",
    "    rain_warning = \"no need for an umbrella, but maybe to be on the safe side: don't wear white.\"\n",
    "if rain_likelihood > 20 and rain_likelihood < 50:\n",
    "    rain_warning = \"take an umbrella with you, it's pretty likely to rain.\"\n",
    "if rain_likelihood > 50:\n",
    "    rain_warning = \"if you don't have to leave the house, maybe stay inside. Rain ahead.\"\n",
    "\n",
    "weather_forecast_output = [\"Right now it is \" + str(temperature) + \" degrees out and \" + str(summary) +\" Today will be \" + str(temp_feeling) + \" with a high of \" + str(high_temp) + \" degrees Fahrenheit and a low of \" + str(low_temp) + \" degrees Fahrenheit. It's going to rain with a probability of \" + str(rain_likelihood) + \" percent so \" + str(rain_warning)]\n",
    "# with commas instead of + it gave me a line break at each comma, that's why I replaced it.\n",
    "\n",
    "def date_in_words(date):\n",
    "    months = ['January', 'February', 'March', 'April', 'May', 'June', 'July', 'August', 'September', 'October', 'November', 'December']\n",
    "    import dateutil.parser\n",
    "    date = dateutil.parser.parse(date)\n",
    "    return months[date.month - 1]\n",
    "\n",
    "def day_in_number(day):\n",
    "    import dateutil.parser\n",
    "    day = dateutil.parser.parse(day)\n",
    "    return day.day\n",
    "\n",
    "def year_in_number(year):\n",
    "    import dateutil.parser\n",
    "    year = dateutil.parser.parse(year)\n",
    "    return year.year\n",
    "import time\n",
    "datestring = time.strftime(\"%Y-%m-%d-%H-%M\")\n",
    "\n",
    "date_in_words(datestring)\n",
    "day_in_number(datestring)\n",
    "year_in_number(datestring)\n",
    "\n",
    "final_date = [date_in_words(datestring), day_in_number(datestring), \"-\", year_in_number(datestring)]\n",
    "specified_subjectline = [\"8AM weather forecast:\", final_date]\n",
    "\n",
    "import requests\n",
    "\n",
    "weather_forecast_output"
   ]
  },
  {
   "cell_type": "code",
   "execution_count": null,
   "metadata": {
    "collapsed": true
   },
   "outputs": [],
   "source": []
  }
 ],
 "metadata": {
  "kernelspec": {
   "display_name": "Python 3",
   "language": "python",
   "name": "python3"
  },
  "language_info": {
   "codemirror_mode": {
    "name": "ipython",
    "version": 3
   },
   "file_extension": ".py",
   "mimetype": "text/x-python",
   "name": "python",
   "nbconvert_exporter": "python",
   "pygments_lexer": "ipython3",
   "version": "3.5.1"
  }
 },
 "nbformat": 4,
 "nbformat_minor": 0
}
