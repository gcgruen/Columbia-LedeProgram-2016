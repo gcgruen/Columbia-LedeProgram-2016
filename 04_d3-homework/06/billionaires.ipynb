{
 "cells": [
  {
   "cell_type": "code",
   "execution_count": 1,
   "metadata": {
    "collapsed": true
   },
   "outputs": [],
   "source": [
    "import pandas as pd"
   ]
  },
  {
   "cell_type": "code",
   "execution_count": 2,
   "metadata": {
    "collapsed": true
   },
   "outputs": [],
   "source": [
    "df = pd.read_csv(\"billionaires_complete.csv\")"
   ]
  },
  {
   "cell_type": "code",
   "execution_count": 4,
   "metadata": {
    "collapsed": false
   },
   "outputs": [
    {
     "data": {
      "text/plain": [
       "count    200.000000\n",
       "mean      15.457200\n",
       "std       12.856298\n",
       "min        6.800000\n",
       "25%        8.277500\n",
       "50%       11.055000\n",
       "75%       15.785000\n",
       "max       88.890000\n",
       "Name: net, dtype: float64"
      ]
     },
     "execution_count": 4,
     "metadata": {},
     "output_type": "execute_result"
    }
   ],
   "source": [
    "df[\"net\"].describe()"
   ]
  },
  {
   "cell_type": "code",
   "execution_count": 9,
   "metadata": {
    "collapsed": false
   },
   "outputs": [
    {
     "data": {
      "text/html": [
       "<div>\n",
       "<table border=\"1\" class=\"dataframe\">\n",
       "  <thead>\n",
       "    <tr style=\"text-align: right;\">\n",
       "      <th></th>\n",
       "      <th>age</th>\n",
       "      <th>children</th>\n",
       "      <th>cleaned_name</th>\n",
       "      <th>gender</th>\n",
       "      <th>industry</th>\n",
       "      <th>name</th>\n",
       "      <th>place</th>\n",
       "      <th>source</th>\n",
       "      <th>status</th>\n",
       "      <th>cash</th>\n",
       "      <th>key</th>\n",
       "      <th>last</th>\n",
       "      <th>last_rel</th>\n",
       "      <th>net</th>\n",
       "      <th>private</th>\n",
       "      <th>public</th>\n",
       "      <th>rank</th>\n",
       "      <th>ytd</th>\n",
       "      <th>ytd_rel</th>\n",
       "    </tr>\n",
       "  </thead>\n",
       "  <tbody>\n",
       "    <tr>\n",
       "      <th>8</th>\n",
       "      <td>61.0</td>\n",
       "      <td>3</td>\n",
       "      <td>bill-gates</td>\n",
       "      <td>Male</td>\n",
       "      <td>Technology</td>\n",
       "      <td>Bill Gates</td>\n",
       "      <td>United States</td>\n",
       "      <td>Self-made</td>\n",
       "      <td>Married</td>\n",
       "      <td>53.50</td>\n",
       "      <td>bill-gates</td>\n",
       "      <td>-353.03</td>\n",
       "      <td>-0.40</td>\n",
       "      <td>88.89</td>\n",
       "      <td>0.56</td>\n",
       "      <td>45.94</td>\n",
       "      <td>1</td>\n",
       "      <td>5104.04</td>\n",
       "      <td>6.09</td>\n",
       "    </tr>\n",
       "    <tr>\n",
       "      <th>175</th>\n",
       "      <td>80.0</td>\n",
       "      <td>3</td>\n",
       "      <td>amancio-ortega</td>\n",
       "      <td>Male</td>\n",
       "      <td>Retail</td>\n",
       "      <td>Amancio Ortega</td>\n",
       "      <td>Spain</td>\n",
       "      <td>Self-made</td>\n",
       "      <td>Married</td>\n",
       "      <td>0.00</td>\n",
       "      <td>amancio-ortega</td>\n",
       "      <td>164.09</td>\n",
       "      <td>0.21</td>\n",
       "      <td>78.54</td>\n",
       "      <td>13.14</td>\n",
       "      <td>86.86</td>\n",
       "      <td>2</td>\n",
       "      <td>5657.81</td>\n",
       "      <td>7.76</td>\n",
       "    </tr>\n",
       "    <tr>\n",
       "      <th>97</th>\n",
       "      <td>52.0</td>\n",
       "      <td>4</td>\n",
       "      <td>jeff-bezos</td>\n",
       "      <td>Male</td>\n",
       "      <td>Technology</td>\n",
       "      <td>Jeff Bezos</td>\n",
       "      <td>United States</td>\n",
       "      <td>Self-made</td>\n",
       "      <td>Married</td>\n",
       "      <td>5.89</td>\n",
       "      <td>jeff-bezos</td>\n",
       "      <td>-214.33</td>\n",
       "      <td>-0.30</td>\n",
       "      <td>72.18</td>\n",
       "      <td>1.21</td>\n",
       "      <td>92.89</td>\n",
       "      <td>3</td>\n",
       "      <td>12501.48</td>\n",
       "      <td>20.95</td>\n",
       "    </tr>\n",
       "    <tr>\n",
       "      <th>6</th>\n",
       "      <td>86.0</td>\n",
       "      <td>3</td>\n",
       "      <td>warren-buffett</td>\n",
       "      <td>Male</td>\n",
       "      <td>Finance</td>\n",
       "      <td>Warren Buffett</td>\n",
       "      <td>United States</td>\n",
       "      <td>Self-made</td>\n",
       "      <td>Married</td>\n",
       "      <td>1.40</td>\n",
       "      <td>warren-buffett</td>\n",
       "      <td>-221.26</td>\n",
       "      <td>-0.34</td>\n",
       "      <td>64.53</td>\n",
       "      <td>0.00</td>\n",
       "      <td>98.60</td>\n",
       "      <td>4</td>\n",
       "      <td>2236.01</td>\n",
       "      <td>3.59</td>\n",
       "    </tr>\n",
       "    <tr>\n",
       "      <th>67</th>\n",
       "      <td>32.0</td>\n",
       "      <td>1</td>\n",
       "      <td>mark-zuckerberg</td>\n",
       "      <td>Male</td>\n",
       "      <td>Technology</td>\n",
       "      <td>Mark Zuckerberg</td>\n",
       "      <td>United States</td>\n",
       "      <td>Self-made</td>\n",
       "      <td>Married</td>\n",
       "      <td>3.75</td>\n",
       "      <td>mark-zuckerberg</td>\n",
       "      <td>-262.49</td>\n",
       "      <td>-0.47</td>\n",
       "      <td>56.01</td>\n",
       "      <td>0.33</td>\n",
       "      <td>95.92</td>\n",
       "      <td>5</td>\n",
       "      <td>10238.70</td>\n",
       "      <td>22.37</td>\n",
       "    </tr>\n",
       "    <tr>\n",
       "      <th>103</th>\n",
       "      <td>81.0</td>\n",
       "      <td>2</td>\n",
       "      <td>charles-koch</td>\n",
       "      <td>Male</td>\n",
       "      <td>Diversified</td>\n",
       "      <td>Charles Koch</td>\n",
       "      <td>United States</td>\n",
       "      <td>Self-made</td>\n",
       "      <td>Married</td>\n",
       "      <td>2.06</td>\n",
       "      <td>charles-koch</td>\n",
       "      <td>-194.48</td>\n",
       "      <td>-0.38</td>\n",
       "      <td>50.38</td>\n",
       "      <td>97.94</td>\n",
       "      <td>0.00</td>\n",
       "      <td>6</td>\n",
       "      <td>-1641.25</td>\n",
       "      <td>-3.16</td>\n",
       "    </tr>\n",
       "    <tr>\n",
       "      <th>41</th>\n",
       "      <td>76.0</td>\n",
       "      <td>3</td>\n",
       "      <td>david-koch</td>\n",
       "      <td>Male</td>\n",
       "      <td>Diversified</td>\n",
       "      <td>David Koch</td>\n",
       "      <td>United States</td>\n",
       "      <td>Self-made</td>\n",
       "      <td>Married</td>\n",
       "      <td>2.06</td>\n",
       "      <td>david-koch</td>\n",
       "      <td>-194.48</td>\n",
       "      <td>-0.38</td>\n",
       "      <td>50.38</td>\n",
       "      <td>97.94</td>\n",
       "      <td>0.00</td>\n",
       "      <td>7</td>\n",
       "      <td>-1641.25</td>\n",
       "      <td>-3.16</td>\n",
       "    </tr>\n",
       "    <tr>\n",
       "      <th>11</th>\n",
       "      <td>76.0</td>\n",
       "      <td>6</td>\n",
       "      <td>carlos-slim</td>\n",
       "      <td>Male</td>\n",
       "      <td>Diversified</td>\n",
       "      <td>Carlos Slim</td>\n",
       "      <td>Mexico</td>\n",
       "      <td>Self-made</td>\n",
       "      <td>Widowed</td>\n",
       "      <td>5.89</td>\n",
       "      <td>carlos-slim</td>\n",
       "      <td>298.99</td>\n",
       "      <td>0.61</td>\n",
       "      <td>49.03</td>\n",
       "      <td>5.05</td>\n",
       "      <td>89.05</td>\n",
       "      <td>8</td>\n",
       "      <td>-3237.01</td>\n",
       "      <td>-6.19</td>\n",
       "    </tr>\n",
       "    <tr>\n",
       "      <th>154</th>\n",
       "      <td>90.0</td>\n",
       "      <td>4</td>\n",
       "      <td>ingvar-kamprad</td>\n",
       "      <td>Male</td>\n",
       "      <td>Retail</td>\n",
       "      <td>Ingvar Kamprad</td>\n",
       "      <td>Sweden</td>\n",
       "      <td>Self-made</td>\n",
       "      <td>Widowed</td>\n",
       "      <td>0.12</td>\n",
       "      <td>ingvar-kamprad</td>\n",
       "      <td>158.02</td>\n",
       "      <td>0.37</td>\n",
       "      <td>43.09</td>\n",
       "      <td>99.69</td>\n",
       "      <td>0.19</td>\n",
       "      <td>9</td>\n",
       "      <td>3198.93</td>\n",
       "      <td>8.02</td>\n",
       "    </tr>\n",
       "    <tr>\n",
       "      <th>63</th>\n",
       "      <td>72.0</td>\n",
       "      <td>2</td>\n",
       "      <td>larry-ellison</td>\n",
       "      <td>Male</td>\n",
       "      <td>Technology</td>\n",
       "      <td>Larry Ellison</td>\n",
       "      <td>United States</td>\n",
       "      <td>Self-made</td>\n",
       "      <td>Divorced</td>\n",
       "      <td>16.75</td>\n",
       "      <td>larry-ellison</td>\n",
       "      <td>-168.51</td>\n",
       "      <td>-0.40</td>\n",
       "      <td>42.39</td>\n",
       "      <td>0.00</td>\n",
       "      <td>83.25</td>\n",
       "      <td>10</td>\n",
       "      <td>2654.52</td>\n",
       "      <td>6.68</td>\n",
       "    </tr>\n",
       "  </tbody>\n",
       "</table>\n",
       "</div>"
      ],
      "text/plain": [
       "      age  children     cleaned_name gender     industry             name  \\\n",
       "8    61.0         3       bill-gates   Male   Technology       Bill Gates   \n",
       "175  80.0         3   amancio-ortega   Male       Retail   Amancio Ortega   \n",
       "97   52.0         4       jeff-bezos   Male   Technology       Jeff Bezos   \n",
       "6    86.0         3   warren-buffett   Male      Finance   Warren Buffett   \n",
       "67   32.0         1  mark-zuckerberg   Male   Technology  Mark Zuckerberg   \n",
       "103  81.0         2     charles-koch   Male  Diversified     Charles Koch   \n",
       "41   76.0         3       david-koch   Male  Diversified       David Koch   \n",
       "11   76.0         6      carlos-slim   Male  Diversified      Carlos Slim   \n",
       "154  90.0         4   ingvar-kamprad   Male       Retail   Ingvar Kamprad   \n",
       "63   72.0         2    larry-ellison   Male   Technology    Larry Ellison   \n",
       "\n",
       "             place     source    status   cash              key    last  \\\n",
       "8    United States  Self-made   Married  53.50       bill-gates -353.03   \n",
       "175          Spain  Self-made   Married   0.00   amancio-ortega  164.09   \n",
       "97   United States  Self-made   Married   5.89       jeff-bezos -214.33   \n",
       "6    United States  Self-made   Married   1.40   warren-buffett -221.26   \n",
       "67   United States  Self-made   Married   3.75  mark-zuckerberg -262.49   \n",
       "103  United States  Self-made   Married   2.06     charles-koch -194.48   \n",
       "41   United States  Self-made   Married   2.06       david-koch -194.48   \n",
       "11          Mexico  Self-made   Widowed   5.89      carlos-slim  298.99   \n",
       "154         Sweden  Self-made   Widowed   0.12   ingvar-kamprad  158.02   \n",
       "63   United States  Self-made  Divorced  16.75    larry-ellison -168.51   \n",
       "\n",
       "     last_rel    net  private  public  rank       ytd  ytd_rel  \n",
       "8       -0.40  88.89     0.56   45.94     1   5104.04     6.09  \n",
       "175      0.21  78.54    13.14   86.86     2   5657.81     7.76  \n",
       "97      -0.30  72.18     1.21   92.89     3  12501.48    20.95  \n",
       "6       -0.34  64.53     0.00   98.60     4   2236.01     3.59  \n",
       "67      -0.47  56.01     0.33   95.92     5  10238.70    22.37  \n",
       "103     -0.38  50.38    97.94    0.00     6  -1641.25    -3.16  \n",
       "41      -0.38  50.38    97.94    0.00     7  -1641.25    -3.16  \n",
       "11       0.61  49.03     5.05   89.05     8  -3237.01    -6.19  \n",
       "154      0.37  43.09    99.69    0.19     9   3198.93     8.02  \n",
       "63      -0.40  42.39     0.00   83.25    10   2654.52     6.68  "
      ]
     },
     "execution_count": 9,
     "metadata": {},
     "output_type": "execute_result"
    }
   ],
   "source": [
    "df.sort_values(by=\"net\", ascending = False).head(10)"
   ]
  },
  {
   "cell_type": "code",
   "execution_count": 12,
   "metadata": {
    "collapsed": false
   },
   "outputs": [
    {
     "data": {
      "text/plain": [
       "Technology            33\n",
       "Diversified           27\n",
       "Retail                24\n",
       "Manufacturing         21\n",
       "Finance               20\n",
       "Real Estate           16\n",
       "Food & Beverage       14\n",
       "Media                 10\n",
       "Energy                 9\n",
       "Metals & Mining        9\n",
       "Service                6\n",
       "Medical                6\n",
       "Telecommunications     4\n",
       "Apparel                1\n",
       "Name: industry, dtype: int64"
      ]
     },
     "execution_count": 12,
     "metadata": {},
     "output_type": "execute_result"
    }
   ],
   "source": [
    "df[\"industry\"].value_counts()"
   ]
  },
  {
   "cell_type": "code",
   "execution_count": 13,
   "metadata": {
    "collapsed": false
   },
   "outputs": [
    {
     "name": "stderr",
     "output_type": "stream",
     "text": [
      "/Users/gcg/.virtualenvs/ddj/lib/python3.5/site-packages/numpy/lib/function_base.py:3834: RuntimeWarning: Invalid value encountered in percentile\n",
      "  RuntimeWarning)\n"
     ]
    },
    {
     "data": {
      "text/plain": [
       "count    155.000000\n",
       "mean      66.806452\n",
       "std       13.743521\n",
       "min       30.000000\n",
       "25%             NaN\n",
       "50%             NaN\n",
       "75%             NaN\n",
       "max       94.000000\n",
       "Name: age, dtype: float64"
      ]
     },
     "execution_count": 13,
     "metadata": {},
     "output_type": "execute_result"
    }
   ],
   "source": [
    "df[\"age\"].describe()"
   ]
  },
  {
   "cell_type": "code",
   "execution_count": 14,
   "metadata": {
    "collapsed": false
   },
   "outputs": [
    {
     "data": {
      "text/plain": [
       "Index(['age', 'children', 'cleaned_name', 'gender', 'industry', 'name',\n",
       "       'place', 'source', 'status', 'cash', 'key', 'last', 'last_rel', 'net',\n",
       "       'private', 'public', 'rank', 'ytd', 'ytd_rel'],\n",
       "      dtype='object')"
      ]
     },
     "execution_count": 14,
     "metadata": {},
     "output_type": "execute_result"
    }
   ],
   "source": [
    "df.columns"
   ]
  },
  {
   "cell_type": "code",
   "execution_count": 15,
   "metadata": {
    "collapsed": false
   },
   "outputs": [
    {
     "data": {
      "text/plain": [
       "count               200\n",
       "unique               35\n",
       "top       United States\n",
       "freq                 71\n",
       "Name: place, dtype: object"
      ]
     },
     "execution_count": 15,
     "metadata": {},
     "output_type": "execute_result"
    }
   ],
   "source": [
    "df['place'].describe()"
   ]
  },
  {
   "cell_type": "code",
   "execution_count": 16,
   "metadata": {
    "collapsed": false
   },
   "outputs": [
    {
     "data": {
      "text/plain": [
       "United States     71\n",
       "Germany           16\n",
       "Russia            15\n",
       "China             12\n",
       "France             8\n",
       "India              8\n",
       "Hong Kong          8\n",
       "Sweden             7\n",
       "Italy              5\n",
       "Brazil             5\n",
       "Indonesia          4\n",
       "Japan              4\n",
       "Saudi Arabia       3\n",
       "Canada             3\n",
       "Mexico             3\n",
       "Australia          2\n",
       "Colombia           2\n",
       "United Kingdom     2\n",
       "Spain              2\n",
       "South Korea        2\n",
       "Thailand           2\n",
       "Switzerland        2\n",
       "Austria            2\n",
       "Israel             1\n",
       "New Zealand        1\n",
       "Philippines        1\n",
       "Czech Republic     1\n",
       "Denmark            1\n",
       "Nigeria            1\n",
       "Netherlands        1\n",
       "Chile              1\n",
       "Monaco             1\n",
       "Cyprus             1\n",
       "Malaysia           1\n",
       "Singapore          1\n",
       "Name: place, dtype: int64"
      ]
     },
     "execution_count": 16,
     "metadata": {},
     "output_type": "execute_result"
    }
   ],
   "source": [
    "df['place'].value_counts()"
   ]
  },
  {
   "cell_type": "code",
   "execution_count": null,
   "metadata": {
    "collapsed": true
   },
   "outputs": [],
   "source": []
  }
 ],
 "metadata": {
  "kernelspec": {
   "display_name": "Python 3",
   "language": "python",
   "name": "python3"
  },
  "language_info": {
   "codemirror_mode": {
    "name": "ipython",
    "version": 3
   },
   "file_extension": ".py",
   "mimetype": "text/x-python",
   "name": "python",
   "nbconvert_exporter": "python",
   "pygments_lexer": "ipython3",
   "version": "3.5.1"
  }
 },
 "nbformat": 4,
 "nbformat_minor": 0
}
