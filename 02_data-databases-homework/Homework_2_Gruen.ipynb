{
 "cells": [
  {
   "cell_type": "markdown",
   "metadata": {},
   "source": [
    "# Homework 2: Working with SQL (Data and Databases 2016)\n",
    "\n",
    "This homework assignment takes the form of an IPython Notebook. There are a number of exercises below, with notebook cells that need to be completed in order to meet particular criteria. Your job is to fill in the cells as appropriate.\n",
    "You'll need to download this notebook file to your computer before you can complete the assignment. To do so, follow these steps:\n",
    "\n",
    "1. Make sure you're viewing this notebook in Github.\n",
    "2. Ctrl+click (or right click) on the \"Raw\" button in the Github interface, and select \"Save Link As...\" or your browser's equivalent. Save the file in a convenient location on your own computer.\n",
    "3. Rename the notebook file to include your own name somewhere in the filename (e.g., Homework_2_Allison_Parrish.ipynb).\n",
    "4. Open the notebook on your computer using your locally installed version of IPython Notebook.\n",
    "5. When you've completed the notebook to your satisfaction, e-mail the completed file to the address of the teaching assistant (as discussed in class).\n",
    "\n",
    "## Setting the scene\n",
    "\n",
    "These problem sets address SQL, with a focus on joins and aggregates.\n",
    "\n",
    "I've prepared a SQL version of the MovieLens data for you to use in this homework. [Download this .psql file here](movielens.psql). You'll be importing this data into your own local copy of PostgreSQL.\n",
    "\n",
    "To import the data, follow these steps:\n",
    "\n",
    "* Launch `psql`.\n",
    "* At the prompt, type `CREATE DATABASE homework2;`\n",
    "* Connect to the database you just created by typing `\\c homework2`\n",
    "* Import the `.psql` file you downloaded earlier by typing `\\i ` followed by the path to the `.psql` file.\n",
    "\n",
    "After you run the `\\i` command, you should see the following output:\n",
    "\n",
    "```\n",
    "CREATE TABLE\n",
    "CREATE TABLE\n",
    "CREATE TABLE\n",
    "COPY 100000\n",
    "COPY 1682\n",
    "COPY 943\n",
    "```\n",
    "\n",
    "The table schemas for the data look like this:"
   ]
  },
  {
   "cell_type": "markdown",
   "metadata": {},
   "source": [
    "```\n",
    "      Table \"public.udata\"\n",
    "  Column   |  Type   | Modifiers \n",
    "-----------+---------+-----------\n",
    " user_id   | integer | \n",
    " item_id   | integer | \n",
    " rating    | integer | \n",
    " timestamp | integer | \n",
    "```\n",
    "\n",
    "```\n",
    "              Table \"public.uuser\"\n",
    "   Column   |         Type          | Modifiers \n",
    "------------+-----------------------+-----------\n",
    " user_id    | integer               | \n",
    " age        | integer               | \n",
    " gender     | character varying(1)  | \n",
    " occupation | character varying(80) | \n",
    " zip_code   | character varying(10) | \n",
    "```\n",
    "\n",
    "```\n",
    "                  Table \"public.uitem\"\n",
    "       Column       |          Type          | Modifiers \n",
    "--------------------+------------------------+-----------\n",
    " movie_id           | integer                | not null\n",
    " movie_title        | character varying(81)  | not null\n",
    " release_date       | date                   | \n",
    " video_release_date | character varying(32)  | \n",
    " imdb_url           | character varying(134) | \n",
    " unknown            | integer                | not null\n",
    " action             | integer                | not null\n",
    " adventure          | integer                | not null\n",
    " animation          | integer                | not null\n",
    " childrens          | integer                | not null\n",
    " comedy             | integer                | not null\n",
    " crime              | integer                | not null\n",
    " documentary        | integer                | not null\n",
    " drama              | integer                | not null\n",
    " fantasy            | integer                | not null\n",
    " film_noir          | integer                | not null\n",
    " horror             | integer                | not null\n",
    " musical            | integer                | not null\n",
    " mystery            | integer                | not null\n",
    " romance            | integer                | not null\n",
    " scifi              | integer                | not null\n",
    " thriller           | integer                | not null\n",
    " war                | integer                | not null\n",
    " western            | integer                | not null\n",
    "```"
   ]
  },
  {
   "cell_type": "markdown",
   "metadata": {},
   "source": [
    "Run the cell below to create a connection object. This should work whether you have `pg8000` installed or `psycopg2`."
   ]
  },
  {
   "cell_type": "code",
   "execution_count": 4,
   "metadata": {
    "collapsed": false
   },
   "outputs": [],
   "source": [
    "import pg8000\n",
    "conn = pg8000.connect(database=\"homework2\")"
   ]
  },
  {
   "cell_type": "markdown",
   "metadata": {},
   "source": [
    "#Note: As I'm operating on Windows I had to change the above connect argument to what you see. Mac users would need to change it back to\n",
    "conn = pg8000.connect(database=\"homework2\") \n",
    "#I guess ;)"
   ]
  },
  {
   "cell_type": "markdown",
   "metadata": {},
   "source": [
    "If you get an error stating that `database \"homework2\" does not exist`, make sure that you followed the instructions above exactly. If necessary, drop the database you created (with, e.g., `DROP DATABASE your_database_name`) and start again.\n",
    "\n",
    "In all of the cells below, I've provided the necessary Python scaffolding to perform the query and display the results. All you need to do is write the SQL statements.\n",
    "\n",
    "As noted in the tutorial, if your SQL statement has a syntax error, you'll need to rollback your connection before you can fix the error and try the query again. As a convenience, I've included the following cell, which performs the rollback process. Run it whenever you hit trouble."
   ]
  },
  {
   "cell_type": "code",
   "execution_count": 5,
   "metadata": {
    "collapsed": false
   },
   "outputs": [],
   "source": [
    "conn.rollback()"
   ]
  },
  {
   "cell_type": "markdown",
   "metadata": {},
   "source": [
    "## Problem set 1: WHERE and ORDER BY\n",
    "\n",
    "In the cell below, fill in the string assigned to the variable `statement` with a SQL query that finds all movies that belong to both the science fiction (`scifi`) and horror genres. Return these movies in reverse order by their release date. (Hint: movies are located in the `uitem` table. A movie's membership in a genre is indicated by a value of `1` in the `uitem` table column corresponding to that genre.) Run the cell to execute the query.\n",
    "\n",
    "Expected output:\n",
    "\n",
    "```\n",
    "Deep Rising (1998)\n",
    "Alien: Resurrection (1997)\n",
    "Hellraiser: Bloodline (1996)\n",
    "Robert A. Heinlein's The Puppet Masters (1994)\n",
    "Body Snatchers (1993)\n",
    "Army of Darkness (1993)\n",
    "Body Snatchers (1993)\n",
    "Alien 3 (1992)\n",
    "Heavy Metal (1981)\n",
    "Alien (1979)\n",
    "Night of the Living Dead (1968)\n",
    "Blob, The (1958)\n",
    "```"
   ]
  },
  {
   "cell_type": "code",
   "execution_count": 6,
   "metadata": {
    "collapsed": false
   },
   "outputs": [
    {
     "name": "stdout",
     "output_type": "stream",
     "text": [
      "Deep Rising (1998)\n",
      "Alien: Resurrection (1997)\n",
      "Hellraiser: Bloodline (1996)\n",
      "Robert A. Heinlein's The Puppet Masters (1994)\n",
      "Body Snatchers (1993)\n",
      "Army of Darkness (1993)\n",
      "Body Snatchers (1993)\n",
      "Alien 3 (1992)\n",
      "Heavy Metal (1981)\n",
      "Alien (1979)\n",
      "Night of the Living Dead (1968)\n",
      "Blob, The (1958)\n"
     ]
    }
   ],
   "source": [
    "cursor = conn.cursor()\n",
    "statement = \"select movie_title from uitem where horror = 1 and scifi = 1 order by release_date DESC;\"\n",
    "cursor.execute(statement)\n",
    "for row in cursor:\n",
    "    print(row[0])"
   ]
  },
  {
   "cell_type": "markdown",
   "metadata": {},
   "source": [
    "## Problem set 2: Aggregation, GROUP BY and HAVING\n",
    "\n",
    "In the cell below, fill in the string assigned to the `statement` variable with a SQL query that returns the number of movies that are *either* musicals or children's movies (columns `musical` and `childrens` respectively). Hint: use the `count(*)` aggregate.\n",
    "\n",
    "Expected output: `157`"
   ]
  },
  {
   "cell_type": "code",
   "execution_count": 7,
   "metadata": {
    "collapsed": false
   },
   "outputs": [
    {
     "name": "stdout",
     "output_type": "stream",
     "text": [
      "157\n"
     ]
    }
   ],
   "source": [
    "cursor = conn.cursor()\n",
    "statement = \"select count(*) from uitem where musical = 1 or childrens = 1;\"\n",
    "cursor.execute(statement)\n",
    "for row in cursor:\n",
    "    print(row[0])"
   ]
  },
  {
   "cell_type": "markdown",
   "metadata": {},
   "source": [
    "Nicely done. Now, in the cell below, fill in the indicated string with a SQL statement that returns all occupations, along with their count, from the `uuser` table that have *more than fifty* users listed for that occupation. (I.e., the occupation `librarian` is listed for 51 users, so it should be included in these results. There are only 12 lawyers, so `lawyer` should not be included in the result.)\n",
    "\n",
    "Expected output:\n",
    "\n",
    "```\n",
    "administrator 79\n",
    "programmer 66\n",
    "librarian 51\n",
    "student 196\n",
    "other 105\n",
    "engineer 67\n",
    "educator 95\n",
    "```\n",
    "\n",
    "Hint: use `GROUP BY` and `HAVING`. (If you're stuck, try writing the query without the `HAVING` first.)"
   ]
  },
  {
   "cell_type": "code",
   "execution_count": 8,
   "metadata": {
    "collapsed": false,
    "scrolled": true
   },
   "outputs": [
    {
     "name": "stdout",
     "output_type": "stream",
     "text": [
      "administrator 79\n",
      "programmer 66\n",
      "librarian 51\n",
      "student 196\n",
      "other 105\n",
      "engineer 67\n",
      "educator 95\n"
     ]
    }
   ],
   "source": [
    "cursor = conn.cursor()\n",
    "statement = \"select occupation, count(occupation) from uuser group by occupation having count(*) > 50;\"\n",
    "cursor.execute(statement)\n",
    "for row in cursor:\n",
    "    print(row[0], row[1])"
   ]
  },
  {
   "cell_type": "markdown",
   "metadata": {},
   "source": [
    "## Problem set 3: Joining tables\n",
    "\n",
    "In the cell below, fill in the indicated string with a query that finds the titles of movies in the Documentary genre released before 1992 that received a rating of 5 from any user. Expected output:\n",
    "\n",
    "```\n",
    "Madonna: Truth or Dare (1991)\n",
    "Koyaanisqatsi (1983)\n",
    "Paris Is Burning (1990)\n",
    "Thin Blue Line, The (1988)\n",
    "```\n",
    "\n",
    "Hints:\n",
    "\n",
    "* `JOIN` the `udata` and `uitem` tables.\n",
    "* Use `DISTINCT()` to get a list of unique movie titles (no title should be listed more than once).\n",
    "* The SQL expression to include in order to find movies released before 1992 is `uitem.release_date < '1992-01-01'`."
   ]
  },
  {
   "cell_type": "code",
   "execution_count": 9,
   "metadata": {
    "collapsed": false
   },
   "outputs": [
    {
     "name": "stdout",
     "output_type": "stream",
     "text": [
      "Koyaanisqatsi (1983)\n",
      "Madonna: Truth or Dare (1991)\n",
      "Paris Is Burning (1990)\n",
      "Thin Blue Line, The (1988)\n"
     ]
    }
   ],
   "source": [
    "cursor = conn.cursor()\n",
    "statement = \"select distinct(movie_title) from uitem join udata on uitem.movie_id = udata.item_id where uitem.documentary = 1 and uitem.release_date < '1992-01-01' and udata.rating = 5 order by movie_title;\"\n",
    "cursor.execute(statement)\n",
    "for row in cursor:\n",
    "    print(row[0])"
   ]
  },
  {
   "cell_type": "markdown",
   "metadata": {},
   "source": [
    "## Problem set 4: Joins and aggregations... together at last\n",
    "\n",
    "This one's tough, so prepare yourself. Go get a cup of coffee. Stretch a little bit. Deep breath. There you go.\n",
    "\n",
    "In the cell below, fill in the indicated string with a query that produces a list of the ten lowest rated movies in the Horror genre. For the purposes of this problem, take \"lowest rated\" to mean \"has the lowest average rating.\" The query should display the *titles* of the movies, not their ID number. (So you'll have to use a `JOIN`.)\n",
    "\n",
    "Expected output:\n",
    "\n",
    "```\n",
    "Amityville 1992: It's About Time (1992) 1.00\n",
    "Beyond Bedlam (1993) 1.00\n",
    "Amityville: Dollhouse (1996) 1.00\n",
    "Amityville: A New Generation (1993) 1.00\n",
    "Amityville 3-D (1983) 1.17\n",
    "Castle Freak (1995) 1.25\n",
    "Amityville Curse, The (1990) 1.25\n",
    "Children of the Corn: The Gathering (1996) 1.32\n",
    "Machine, The (1994) 1.50\n",
    "Body Parts (1991) 1.62\n",
    "```"
   ]
  },
  {
   "cell_type": "code",
   "execution_count": 10,
   "metadata": {
    "collapsed": false
   },
   "outputs": [
    {
     "name": "stdout",
     "output_type": "stream",
     "text": [
      "Amityville 1992: It's About Time (1992) 1.00\n",
      "Beyond Bedlam (1993) 1.00\n",
      "Amityville: Dollhouse (1996) 1.00\n",
      "Amityville: A New Generation (1993) 1.00\n",
      "Amityville 3-D (1983) 1.17\n",
      "Castle Freak (1995) 1.25\n",
      "Amityville Curse, The (1990) 1.25\n",
      "Children of the Corn: The Gathering (1996) 1.32\n",
      "Machine, The (1994) 1.50\n",
      "Body Parts (1991) 1.62\n"
     ]
    }
   ],
   "source": [
    "cursor = conn.cursor()\n",
    "statement = \"select movie_title, avg(rating) from uitem join udata on uitem.movie_id = udata.item_id where horror = 1 group by uitem.movie_title order by avg(udata.rating) limit 10;\"\n",
    "cursor.execute(statement)\n",
    "for row in cursor:\n",
    "    print(row[0], \"%0.2f\" % row[1])"
   ]
  },
  {
   "cell_type": "markdown",
   "metadata": {},
   "source": [
    "BONUS: Extend the query above so that it only includes horror movies that have ten or more ratings. Fill in the query as indicated below.\n",
    "\n",
    "Expected output:\n",
    "\n",
    "```\n",
    "Children of the Corn: The Gathering (1996) 1.32\n",
    "Body Parts (1991) 1.62\n",
    "Amityville II: The Possession (1982) 1.64\n",
    "Jaws 3-D (1983) 1.94\n",
    "Hellraiser: Bloodline (1996) 2.00\n",
    "Tales from the Hood (1995) 2.04\n",
    "Audrey Rose (1977) 2.17\n",
    "Addiction, The (1995) 2.18\n",
    "Halloween: The Curse of Michael Myers (1995) 2.20\n",
    "Phantoms (1998) 2.23\n",
    "```"
   ]
  },
  {
   "cell_type": "code",
   "execution_count": 11,
   "metadata": {
    "collapsed": false
   },
   "outputs": [
    {
     "name": "stdout",
     "output_type": "stream",
     "text": [
      "Children of the Corn: The Gathering (1996) 1.32\n",
      "Body Parts (1991) 1.62\n",
      "Amityville II: The Possession (1982) 1.64\n",
      "Jaws 3-D (1983) 1.94\n",
      "Hellraiser: Bloodline (1996) 2.00\n",
      "Tales from the Hood (1995) 2.04\n",
      "Audrey Rose (1977) 2.17\n",
      "Addiction, The (1995) 2.18\n",
      "Halloween: The Curse of Michael Myers (1995) 2.20\n",
      "Phantoms (1998) 2.23\n"
     ]
    }
   ],
   "source": [
    "cursor = conn.cursor()\n",
    "statement = \"select movie_title, avg(rating) from uitem join udata on uitem.movie_id = udata.item_id where horror = 1 group by uitem.movie_title having count(udata.rating) > 10 order by avg(udata.rating) limit 10;\"\n",
    "cursor.execute(statement)\n",
    "for row in cursor:\n",
    "    print(row[0], \"%0.2f\" % row[1])"
   ]
  },
  {
   "cell_type": "markdown",
   "metadata": {},
   "source": [
    "Great work! You're done."
   ]
  }
 ],
 "metadata": {
  "kernelspec": {
   "display_name": "Python 3",
   "language": "python",
   "name": "python3"
  },
  "language_info": {
   "codemirror_mode": {
    "name": "ipython",
    "version": 3
   },
   "file_extension": ".py",
   "mimetype": "text/x-python",
   "name": "python",
   "nbconvert_exporter": "python",
   "pygments_lexer": "ipython3",
   "version": "3.5.1"
  }
 },
 "nbformat": 4,
 "nbformat_minor": 0
}
