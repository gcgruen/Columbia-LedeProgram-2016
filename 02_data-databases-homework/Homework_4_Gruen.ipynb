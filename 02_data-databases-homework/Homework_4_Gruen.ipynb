{
 "cells": [
  {
   "cell_type": "markdown",
   "metadata": {},
   "source": [
    "Graded =11/11\n",
    "\n",
    "# Homework #4\n",
    "\n",
    "These problem sets focus on list comprehensions, string operations and regular expressions.\n",
    "\n",
    "## Problem set #1: List slices and list comprehensions\n",
    "\n",
    "Let's start with some data. The following cell contains a string with comma-separated integers, assigned to a variable called `numbers_str`:"
   ]
  },
  {
   "cell_type": "code",
   "execution_count": 1,
   "metadata": {
    "collapsed": true
   },
   "outputs": [],
   "source": [
    "numbers_str = '496,258,332,550,506,699,7,985,171,581,436,804,736,528,65,855,68,279,721,120'"
   ]
  },
  {
   "cell_type": "markdown",
   "metadata": {},
   "source": [
    "In the following cell, complete the code with an expression that evaluates to a list of integers derived from the raw numbers in `numbers_str`, assigning the value of this expression to a variable `numbers`. If you do everything correctly, executing the cell should produce the output `985` (*not* `'985'`)."
   ]
  },
  {
   "cell_type": "code",
   "execution_count": 2,
   "metadata": {
    "collapsed": false
   },
   "outputs": [
    {
     "data": {
      "text/plain": [
       "985"
      ]
     },
     "execution_count": 2,
     "metadata": {},
     "output_type": "execute_result"
    }
   ],
   "source": [
    "numbers = [int(i) for i in numbers_str.split(\",\")]\n",
    "max(numbers)"
   ]
  },
  {
   "cell_type": "markdown",
   "metadata": {},
   "source": [
    "Great! We'll be using the `numbers` list you created above in the next few problems.\n",
    "\n",
    "In the cell below, fill in the square brackets so that the expression evaluates to a list of the ten largest values in `numbers`. Expected output:\n",
    "\n",
    "    [506, 528, 550, 581, 699, 721, 736, 804, 855, 985]\n",
    "    \n",
    "(Hint: use a slice.)"
   ]
  },
  {
   "cell_type": "code",
   "execution_count": 3,
   "metadata": {
    "collapsed": false
   },
   "outputs": [
    {
     "data": {
      "text/plain": [
       "[506, 528, 550, 581, 699, 721, 736, 804, 855, 985]"
      ]
     },
     "execution_count": 3,
     "metadata": {},
     "output_type": "execute_result"
    }
   ],
   "source": [
    "sorted(numbers)[-10:]"
   ]
  },
  {
   "cell_type": "markdown",
   "metadata": {},
   "source": [
    "In the cell below, write an expression that evaluates to a list of the integers from `numbers` that are evenly divisible by three, *sorted in numerical order*. Expected output:\n",
    "\n",
    "    [120, 171, 258, 279, 528, 699, 804, 855]"
   ]
  },
  {
   "cell_type": "code",
   "execution_count": 4,
   "metadata": {
    "collapsed": false
   },
   "outputs": [
    {
     "data": {
      "text/plain": [
       "[120, 171, 258, 279, 528, 699, 804, 855]"
      ]
     },
     "execution_count": 4,
     "metadata": {},
     "output_type": "execute_result"
    }
   ],
   "source": [
    "sorted([number for number in numbers if number%3 == 0])"
   ]
  },
  {
   "cell_type": "markdown",
   "metadata": {},
   "source": [
    "Okay. You're doing great. Now, in the cell below, write an expression that evaluates to a list of the square roots of all the integers in `numbers` that are less than 100. In order to do this, you'll need to use the `sqrt` function from the `math` module, which I've already imported for you. Expected output:\n",
    "\n",
    "    [2.6457513110645907, 8.06225774829855, 8.246211251235321]\n",
    "    \n",
    "(These outputs might vary slightly depending on your platform.)"
   ]
  },
  {
   "cell_type": "code",
   "execution_count": 5,
   "metadata": {
    "collapsed": false
   },
   "outputs": [
    {
     "data": {
      "text/plain": [
       "[2.6457513110645907, 8.06225774829855, 8.246211251235321]"
      ]
     },
     "execution_count": 5,
     "metadata": {},
     "output_type": "execute_result"
    }
   ],
   "source": [
    "from math import sqrt\n",
    "[sqrt(number) for number in numbers if number < 100]"
   ]
  },
  {
   "cell_type": "markdown",
   "metadata": {},
   "source": [
    "## Problem set #2: Still more list comprehensions\n",
    "\n",
    "Still looking good. Let's do a few more with some different data. In the cell below, I've defined a data structure and assigned it to a variable `planets`. It's a list of dictionaries, with each dictionary describing the characteristics of a planet in the solar system. Make sure to run the cell before you proceed."
   ]
  },
  {
   "cell_type": "code",
   "execution_count": 6,
   "metadata": {
    "collapsed": true
   },
   "outputs": [],
   "source": [
    "planets = [\n",
    " {'diameter': 0.382,\n",
    "  'mass': 0.06,\n",
    "  'moons': 0,\n",
    "  'name': 'Mercury',\n",
    "  'orbital_period': 0.24,\n",
    "  'rings': 'no',\n",
    "  'type': 'terrestrial'},\n",
    " {'diameter': 0.949,\n",
    "  'mass': 0.82,\n",
    "  'moons': 0,\n",
    "  'name': 'Venus',\n",
    "  'orbital_period': 0.62,\n",
    "  'rings': 'no',\n",
    "  'type': 'terrestrial'},\n",
    " {'diameter': 1.00,\n",
    "  'mass': 1.00,\n",
    "  'moons': 1,\n",
    "  'name': 'Earth',\n",
    "  'orbital_period': 1.00,\n",
    "  'rings': 'no',\n",
    "  'type': 'terrestrial'},\n",
    " {'diameter': 0.532,\n",
    "  'mass': 0.11,\n",
    "  'moons': 2,\n",
    "  'name': 'Mars',\n",
    "  'orbital_period': 1.88,\n",
    "  'rings': 'no',\n",
    "  'type': 'terrestrial'},\n",
    " {'diameter': 11.209,\n",
    "  'mass': 317.8,\n",
    "  'moons': 67,\n",
    "  'name': 'Jupiter',\n",
    "  'orbital_period': 11.86,\n",
    "  'rings': 'yes',\n",
    "  'type': 'gas giant'},\n",
    " {'diameter': 9.449,\n",
    "  'mass': 95.2,\n",
    "  'moons': 62,\n",
    "  'name': 'Saturn',\n",
    "  'orbital_period': 29.46,\n",
    "  'rings': 'yes',\n",
    "  'type': 'gas giant'},\n",
    " {'diameter': 4.007,\n",
    "  'mass': 14.6,\n",
    "  'moons': 27,\n",
    "  'name': 'Uranus',\n",
    "  'orbital_period': 84.01,\n",
    "  'rings': 'yes',\n",
    "  'type': 'ice giant'},\n",
    " {'diameter': 3.883,\n",
    "  'mass': 17.2,\n",
    "  'moons': 14,\n",
    "  'name': 'Neptune',\n",
    "  'orbital_period': 164.8,\n",
    "  'rings': 'yes',\n",
    "  'type': 'ice giant'}]"
   ]
  },
  {
   "cell_type": "markdown",
   "metadata": {},
   "source": [
    "Now, in the cell below, write a list comprehension that evaluates to a list of names of the planets that have a radius greater than four earth radii. Expected output:\n",
    "\n",
    "    ['Jupiter', 'Saturn', 'Uranus']"
   ]
  },
  {
   "cell_type": "code",
   "execution_count": 15,
   "metadata": {
    "collapsed": false
   },
   "outputs": [
    {
     "data": {
      "text/plain": [
       "['Jupiter', 'Saturn', 'Uranus']"
      ]
     },
     "execution_count": 15,
     "metadata": {},
     "output_type": "execute_result"
    }
   ],
   "source": [
    "[planet['name'] for planet in planets if planet['diameter']/2 > (planets[2]['diameter'] / 2 * 4)]"
   ]
  },
  {
   "cell_type": "markdown",
   "metadata": {},
   "source": [
    "In the cell below, write a single expression that evaluates to the sum of the mass of all planets in the solar system. Expected output: `446.79`"
   ]
  },
  {
   "cell_type": "code",
   "execution_count": 16,
   "metadata": {
    "collapsed": false
   },
   "outputs": [
    {
     "data": {
      "text/plain": [
       "446.79"
      ]
     },
     "execution_count": 16,
     "metadata": {},
     "output_type": "execute_result"
    }
   ],
   "source": [
    "sum([planet['mass'] for planet in planets])"
   ]
  },
  {
   "cell_type": "markdown",
   "metadata": {},
   "source": [
    "Good work. Last one with the planets. Write an expression that evaluates to the names of the planets that have the word `giant` anywhere in the value for their `type` key. Expected output:\n",
    "\n",
    "    ['Jupiter', 'Saturn', 'Uranus', 'Neptune']"
   ]
  },
  {
   "cell_type": "code",
   "execution_count": 17,
   "metadata": {
    "collapsed": false
   },
   "outputs": [
    {
     "data": {
      "text/plain": [
       "['Jupiter', 'Saturn', 'Uranus', 'Neptune']"
      ]
     },
     "execution_count": 17,
     "metadata": {},
     "output_type": "execute_result"
    }
   ],
   "source": [
    "[planet['name'] for planet in planets if 'giant' in planet['type']]"
   ]
  },
  {
   "cell_type": "markdown",
   "metadata": {},
   "source": [
    "*EXTREME BONUS ROUND*: Write an expression below that evaluates to a list of the names of the planets in ascending order by their number of moons. (The easiest way to do this involves using the [`key` parameter of the `sorted` function](https://docs.python.org/3.5/library/functions.html#sorted), which we haven't yet discussed in class! That's why this is an EXTREME BONUS question.) Expected output:\n",
    "\n",
    "    ['Mercury', 'Venus', 'Earth', 'Mars', 'Neptune', 'Uranus', 'Saturn', 'Jupiter']"
   ]
  },
  {
   "cell_type": "code",
   "execution_count": 18,
   "metadata": {
    "collapsed": false,
    "scrolled": true
   },
   "outputs": [
    {
     "data": {
      "text/plain": [
       "['Mercury', 'Venus', 'Earth', 'Mars', 'Neptune', 'Uranus', 'Saturn', 'Jupiter']"
      ]
     },
     "execution_count": 18,
     "metadata": {},
     "output_type": "execute_result"
    }
   ],
   "source": [
    "[planet['name'] for planet in sorted(planets, key = lambda planet: planet['moons'])]\n",
    "\n",
    "# Useful reads: \n",
    "# http://stackoverflow.com/questions/8966538/syntax-behind-sortedkey-lambda\n",
    "# https://docs.python.org/3.5/howto/sorting.html#sortinghowto"
   ]
  },
  {
   "cell_type": "markdown",
   "metadata": {},
   "source": [
    "## Problem set #3: Regular expressions"
   ]
  },
  {
   "cell_type": "markdown",
   "metadata": {},
   "source": [
    "In the following section, we're going to do a bit of digital humanities. (I guess this could also be journalism if you were... writing an investigative piece about... early 20th century American poetry?) We'll be working with the following text, Robert Frost's *The Road Not Taken*. Make sure to run the following cell before you proceed."
   ]
  },
  {
   "cell_type": "code",
   "execution_count": 19,
   "metadata": {
    "collapsed": true
   },
   "outputs": [],
   "source": [
    "import re\n",
    "poem_lines = ['Two roads diverged in a yellow wood,',\n",
    " 'And sorry I could not travel both',\n",
    " 'And be one traveler, long I stood',\n",
    " 'And looked down one as far as I could',\n",
    " 'To where it bent in the undergrowth;',\n",
    " '',\n",
    " 'Then took the other, as just as fair,',\n",
    " 'And having perhaps the better claim,',\n",
    " 'Because it was grassy and wanted wear;',\n",
    " 'Though as for that the passing there',\n",
    " 'Had worn them really about the same,',\n",
    " '',\n",
    " 'And both that morning equally lay',\n",
    " 'In leaves no step had trodden black.',\n",
    " 'Oh, I kept the first for another day!',\n",
    " 'Yet knowing how way leads on to way,',\n",
    " 'I doubted if I should ever come back.',\n",
    " '',\n",
    " 'I shall be telling this with a sigh',\n",
    " 'Somewhere ages and ages hence:',\n",
    " 'Two roads diverged in a wood, and I---',\n",
    " 'I took the one less travelled by,',\n",
    " 'And that has made all the difference.']"
   ]
  },
  {
   "cell_type": "markdown",
   "metadata": {},
   "source": [
    "In the cell above, I defined a variable `poem_lines` which has a list of lines in the poem, and `import`ed the `re` library.\n",
    "\n",
    "In the cell below, write a list comprehension (using `re.search()`) that evaluates to a list of lines that contain two words next to each other (separated by a space) that have exactly four characters. (Hint: use the `\\b` anchor. Don't overthink the \"two words in a row\" requirement.)\n",
    "\n",
    "Expected result:\n",
    "\n",
    "```\n",
    "['Then took the other, as just as fair,',\n",
    " 'Had worn them really about the same,',\n",
    " 'And both that morning equally lay',\n",
    " 'I doubted if I should ever come back.',\n",
    " 'I shall be telling this with a sigh']\n",
    "```"
   ]
  },
  {
   "cell_type": "code",
   "execution_count": 20,
   "metadata": {
    "collapsed": false
   },
   "outputs": [
    {
     "data": {
      "text/plain": [
       "['Then took the other, as just as fair,',\n",
       " 'Had worn them really about the same,',\n",
       " 'And both that morning equally lay',\n",
       " 'I doubted if I should ever come back.',\n",
       " 'I shall be telling this with a sigh']"
      ]
     },
     "execution_count": 20,
     "metadata": {},
     "output_type": "execute_result"
    }
   ],
   "source": [
    "[line for line in poem_lines if re.search(r\"\\b\\w{4}\\b\\s\\b\\w{4}\\b\", line)]"
   ]
  },
  {
   "cell_type": "markdown",
   "metadata": {},
   "source": [
    "Good! Now, in the following cell, write a list comprehension that evaluates to a list of lines in the poem that end with a five-letter word, regardless of whether or not there is punctuation following the word at the end of the line. (Hint: Try using the `?` quantifier. Is there an existing character class, or a way to *write* a character class, that matches non-alphanumeric characters?) Expected output:\n",
    "\n",
    "```\n",
    "['And be one traveler, long I stood',\n",
    " 'And looked down one as far as I could',\n",
    " 'And having perhaps the better claim,',\n",
    " 'Though as for that the passing there',\n",
    " 'In leaves no step had trodden black.',\n",
    " 'Somewhere ages and ages hence:']\n",
    "```"
   ]
  },
  {
   "cell_type": "code",
   "execution_count": 21,
   "metadata": {
    "collapsed": false
   },
   "outputs": [
    {
     "data": {
      "text/plain": [
       "['And be one traveler, long I stood',\n",
       " 'And looked down one as far as I could',\n",
       " 'And having perhaps the better claim,',\n",
       " 'Though as for that the passing there',\n",
       " 'In leaves no step had trodden black.',\n",
       " 'Somewhere ages and ages hence:']"
      ]
     },
     "execution_count": 21,
     "metadata": {},
     "output_type": "execute_result"
    }
   ],
   "source": [
    "#character class that matches non-alphanumeric characters = \\W\n",
    "#in ananalogy to \\s and \\S\n",
    "\n",
    "[line for line in poem_lines if re.search(r\"\\b\\w{5}(?:$|\\W$)\", line)]"
   ]
  },
  {
   "cell_type": "markdown",
   "metadata": {},
   "source": [
    "Okay, now a slightly trickier one. In the cell below, I've created a string `all_lines` which evaluates to the entire text of the poem in one string. Execute this cell."
   ]
  },
  {
   "cell_type": "code",
   "execution_count": 112,
   "metadata": {
    "collapsed": true
   },
   "outputs": [],
   "source": [
    "all_lines = \" \".join(poem_lines)"
   ]
  },
  {
   "cell_type": "markdown",
   "metadata": {},
   "source": [
    "Now, write an expression that evaluates to all of the words in the poem that follow the word 'I'. (The strings in the resulting list should *not* include the `I`.) Hint: Use `re.findall()` and grouping! Expected output:\n",
    "\n",
    "    ['could', 'stood', 'could', 'kept', 'doubted', 'should', 'shall', 'took']"
   ]
  },
  {
   "cell_type": "code",
   "execution_count": 134,
   "metadata": {
    "collapsed": false
   },
   "outputs": [
    {
     "data": {
      "text/plain": [
       "['could', 'stood', 'could', 'kept', 'doubted', 'should', 'shall', 'took']"
      ]
     },
     "execution_count": 134,
     "metadata": {},
     "output_type": "execute_result"
    }
   ],
   "source": [
    "[line[2:] for line in re.findall(r\"\\bI\\b\\s\\b\\w{1,}\\b\", all_lines)]"
   ]
  },
  {
   "cell_type": "markdown",
   "metadata": {},
   "source": [
    "Finally, something super tricky. Here's a list of strings that contains a restaurant menu. Your job is to wrangle this plain text, slightly-structured data into a list of dictionaries."
   ]
  },
  {
   "cell_type": "code",
   "execution_count": 23,
   "metadata": {
    "collapsed": true
   },
   "outputs": [],
   "source": [
    "entrees = [\n",
    "    \"Yam, Rosemary and Chicken Bowl with Hot Sauce $10.95\",\n",
    "    \"Lavender and Pepperoni Sandwich $8.49\",\n",
    "    \"Water Chestnuts and Peas Power Lunch (with mayonnaise) $12.95 - v\",\n",
    "    \"Artichoke, Mustard Green and Arugula with Sesame Oil over noodles $9.95 - v\",\n",
    "    \"Flank Steak with Lentils And Tabasco Pepper With Sweet Chilli Sauce $19.95\",\n",
    "    \"Rutabaga And Cucumber Wrap $8.49 - v\"\n",
    "]"
   ]
  },
  {
   "cell_type": "markdown",
   "metadata": {},
   "source": [
    "You'll need to pull out the name of the dish and the price of the dish. The `v` after the hyphen indicates that the dish is vegetarian---you'll need to include that information in your dictionary as well. I've included the basic framework; you just need to fill in the contents of the `for` loop.\n",
    "\n",
    "Expected output:\n",
    "\n",
    "```\n",
    "[{'name': 'Yam, Rosemary and Chicken Bowl with Hot Sauce ',\n",
    "  'price': 10.95,\n",
    "  'vegetarian': False},\n",
    " {'name': 'Lavender and Pepperoni Sandwich ',\n",
    "  'price': 8.49,\n",
    "  'vegetarian': False},\n",
    " {'name': 'Water Chestnuts and Peas Power Lunch (with mayonnaise) ',\n",
    "  'price': 12.95,\n",
    "  'vegetarian': True},\n",
    " {'name': 'Artichoke, Mustard Green and Arugula with Sesame Oil over noodles ',\n",
    "  'price': 9.95,\n",
    "  'vegetarian': True},\n",
    " {'name': 'Flank Steak with Lentils And Tabasco Pepper With Sweet Chilli Sauce ',\n",
    "  'price': 19.95,\n",
    "  'vegetarian': False},\n",
    " {'name': 'Rutabaga And Cucumber Wrap ', 'price': 8.49, 'vegetarian': True}]\n",
    "```"
   ]
  },
  {
   "cell_type": "code",
   "execution_count": 24,
   "metadata": {
    "collapsed": false
   },
   "outputs": [
    {
     "data": {
      "text/plain": [
       "[['Yam, Rosemary and Chicken Bowl with Hot Sauce ', '10.95'],\n",
       " ['Lavender and Pepperoni Sandwich ', '8.49'],\n",
       " ['Water Chestnuts and Peas Power Lunch (with mayonnaise) ', '12.95 - v'],\n",
       " ['Artichoke, Mustard Green and Arugula with Sesame Oil over noodles ',\n",
       "  '9.95 - v'],\n",
       " ['Flank Steak with Lentils And Tabasco Pepper With Sweet Chilli Sauce ',\n",
       "  '19.95'],\n",
       " ['Rutabaga And Cucumber Wrap ', '8.49 - v']]"
      ]
     },
     "execution_count": 24,
     "metadata": {},
     "output_type": "execute_result"
    }
   ],
   "source": [
    "#test cell to try code bits\n",
    "[item.split(\"$\") for item in entrees if re.search(r\"(?:\\d\\d|\\d).\\d\\d\", item)]"
   ]
  },
  {
   "cell_type": "code",
   "execution_count": 27,
   "metadata": {
    "collapsed": false
   },
   "outputs": [
    {
     "data": {
      "text/plain": [
       "[{'name': 'Yam, Rosemary and Chicken Bowl with Hot Sauce',\n",
       "  'price': '10.95',\n",
       "  'vegetarian': False},\n",
       " {'name': 'Lavender and Pepperoni Sandwich',\n",
       "  'price': '8.49',\n",
       "  'vegetarian': False},\n",
       " {'name': 'Water Chestnuts and Peas Power Lunch (with mayonnaise)',\n",
       "  'price': '12.95',\n",
       "  'vegetarian': True},\n",
       " {'name': 'Artichoke, Mustard Green and Arugula with Sesame Oil over noodles',\n",
       "  'price': '9.95',\n",
       "  'vegetarian': True},\n",
       " {'name': 'Flank Steak with Lentils And Tabasco Pepper With Sweet Chilli Sauce',\n",
       "  'price': '19.95',\n",
       "  'vegetarian': False},\n",
       " {'name': 'Rutabaga And Cucumber Wrap', 'price': '8.49', 'vegetarian': True}]"
      ]
     },
     "execution_count": 27,
     "metadata": {},
     "output_type": "execute_result"
    }
   ],
   "source": [
    "#TA-Stephan: Careful - price should be int. \n",
    "\n",
    "menu = []\n",
    "for item in entrees:\n",
    "    dish ={}\n",
    "    dish['name'] = re.search(r\"(.*)\\s\\$\", item).group(1)\n",
    "    dish['price'] = re.search(r\"\\d{1,2}\\.\\d{2}\", item).group()\n",
    "    dish['vegetarian'] = bool(re.search(r\"\\s-\\sv\", item))\n",
    "    menu.append(dish)\n",
    "menu"
   ]
  },
  {
   "cell_type": "markdown",
   "metadata": {},
   "source": [
    "Great work! You are done. Go cavort in the sun, or whatever it is you students do when you're done with your homework"
   ]
  },
  {
   "cell_type": "code",
   "execution_count": null,
   "metadata": {
    "collapsed": true
   },
   "outputs": [],
   "source": []
  }
 ],
 "metadata": {
  "kernelspec": {
   "display_name": "Python 3",
   "language": "python",
   "name": "python3"
  },
  "language_info": {
   "codemirror_mode": {
    "name": "ipython",
    "version": 3
   },
   "file_extension": ".py",
   "mimetype": "text/x-python",
   "name": "python",
   "nbconvert_exporter": "python",
   "pygments_lexer": "ipython3",
   "version": "3.5.1"
  }
 },
 "nbformat": 4,
 "nbformat_minor": 0
}
