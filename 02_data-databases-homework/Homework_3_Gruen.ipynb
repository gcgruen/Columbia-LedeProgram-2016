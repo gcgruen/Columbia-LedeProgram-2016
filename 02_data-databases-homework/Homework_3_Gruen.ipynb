{
 "cells": [
  {
   "cell_type": "markdown",
   "metadata": {},
   "source": [
    "# Homework assignment #3\n",
    "\n",
    "These problem sets focus on using the Beautiful Soup library to scrape web pages.\n",
    "\n",
    "## Problem Set #1: Basic scraping\n",
    "\n",
    "I've made a web page for you to scrape. It's available [here](http://static.decontextualize.com/widgets2016.html). The page concerns the catalog of a famous [widget](http://en.wikipedia.org/wiki/Widget) company. You'll be answering several questions about this web page. In the cell below, I've written some code so that you end up with a variable called `html_str` that contains the HTML source code of the page, and a variable `document` that stores a Beautiful Soup object."
   ]
  },
  {
   "cell_type": "code",
   "execution_count": 1,
   "metadata": {
    "collapsed": false
   },
   "outputs": [],
   "source": [
    "from bs4 import BeautifulSoup\n",
    "from urllib.request import urlopen\n",
    "html_str = urlopen(\"http://static.decontextualize.com/widgets2016.html\").read()\n",
    "document = BeautifulSoup(html_str, \"html.parser\")"
   ]
  },
  {
   "cell_type": "markdown",
   "metadata": {},
   "source": [
    "Now, in the cell below, use Beautiful Soup to write an expression that evaluates to the number of `<h3>` tags contained in `widgets2016.html`."
   ]
  },
  {
   "cell_type": "code",
   "execution_count": 2,
   "metadata": {
    "collapsed": false
   },
   "outputs": [
    {
     "name": "stdout",
     "output_type": "stream",
     "text": [
      "4\n"
     ]
    }
   ],
   "source": [
    "h3_tags = document.find_all('h3')\n",
    "\n",
    "h3_tags_count = 0\n",
    "for tag in h3_tags:\n",
    "    h3_tags_count = h3_tags_count + 1\n",
    "print(h3_tags_count)"
   ]
  },
  {
   "cell_type": "markdown",
   "metadata": {},
   "source": [
    "Now, in the cell below, write an expression or series of statements that displays the telephone number beneath the \"Widget Catalog\" header."
   ]
  },
  {
   "cell_type": "code",
   "execution_count": 3,
   "metadata": {
    "collapsed": false
   },
   "outputs": [
    {
     "name": "stdout",
     "output_type": "stream",
     "text": [
      "212-555-9912\n"
     ]
    }
   ],
   "source": [
    "#inspecting webpace with help of developer tools -- shows infomation is stored in an a tag that has the class 'tel'\n",
    "a_tags = document.find_all('a', {'class':'tel'})\n",
    "\n",
    "for tag in a_tags:\n",
    "    print(tag.string)\n",
    "\n",
    "#Does not return the same: [tag.string for tag in a_tags]"
   ]
  },
  {
   "cell_type": "markdown",
   "metadata": {},
   "source": [
    "In the cell below, use Beautiful Soup to write some code that prints the names of all the widgets on the page. After your code has executed, `widget_names` should evaluate to a list that looks like this (though not necessarily in this order):\n",
    "\n",
    "```\n",
    "Skinner Widget\n",
    "Widget For Furtiveness\n",
    "Widget For Strawman\n",
    "Jittery Widget\n",
    "Silver Widget\n",
    "Divided Widget\n",
    "Manicurist Widget\n",
    "Infinite Widget\n",
    "Yellow-Tipped Widget\n",
    "Unshakable Widget\n",
    "Self-Knowledge Widget\n",
    "Widget For Cinema\n",
    "```"
   ]
  },
  {
   "cell_type": "code",
   "execution_count": 4,
   "metadata": {
    "collapsed": false
   },
   "outputs": [
    {
     "name": "stdout",
     "output_type": "stream",
     "text": [
      "Skinner Widget\n",
      "Widget For Furtiveness\n",
      "Widget For Strawman\n",
      "Jittery Widget\n",
      "Silver Widget\n",
      "Divided Widget\n",
      "Manicurist Widget\n",
      "Infinite Widget\n",
      "Yellow-Tipped Widget\n",
      "Unshakable Widget\n",
      "Self-Knowledge Widget\n",
      "Widget For Cinema\n"
     ]
    }
   ],
   "source": [
    "search_table = document.find_all('table',{'class': 'widgetlist'})\n",
    "#print(search_table)\n",
    "\n",
    "tables_content = [table('td', {'class':'wname'}) for table in search_table]\n",
    "#print(tables_content)\n",
    "\n",
    "for table in tables_content:\n",
    "    for single_table in table:\n",
    "        print(single_table.string)"
   ]
  },
  {
   "cell_type": "markdown",
   "metadata": {},
   "source": [
    "## Problem set #2: Widget dictionaries\n",
    "\n",
    "For this problem set, we'll continue to use the HTML page from the previous problem set. In the cell below, I've made an empty list and assigned it to a variable called `widgets`. Write code that populates this list with dictionaries, one dictionary per widget in the source file. The keys of each dictionary should be `partno`, `wname`, `price`, and `quantity`, and the value for each of the keys should be the value for the corresponding column for each row. After executing the cell, your list should look something like this:\n",
    "\n",
    "```\n",
    "[{'partno': 'C1-9476',\n",
    "  'price': '$2.70',\n",
    "  'quantity': u'512',\n",
    "  'wname': 'Skinner Widget'},\n",
    " {'partno': 'JDJ-32/V',\n",
    "  'price': '$9.36',\n",
    "  'quantity': '967',\n",
    "  'wname': u'Widget For Furtiveness'},\n",
    "  ...several items omitted...\n",
    " {'partno': '5B-941/F',\n",
    "  'price': '$13.26',\n",
    "  'quantity': '919',\n",
    "  'wname': 'Widget For Cinema'}]\n",
    "```\n",
    "\n",
    "And this expression:\n",
    "\n",
    "    widgets[5]['partno']\n",
    "    \n",
    "... should evaluate to:\n",
    "\n",
    "    LH-74/O\n",
    "    "
   ]
  },
  {
   "cell_type": "code",
   "execution_count": 85,
   "metadata": {
    "collapsed": false
   },
   "outputs": [
    {
     "data": {
      "text/plain": [
       "[{'partno': 'C1-9476',\n",
       "  'price': '$2.70',\n",
       "  'quantity': '512',\n",
       "  'wname': 'Skinner Widget'},\n",
       " {'partno': 'JDJ-32/V',\n",
       "  'price': '$9.36',\n",
       "  'quantity': '967',\n",
       "  'wname': 'Widget For Furtiveness'},\n",
       " {'partno': 'YP4-325/J',\n",
       "  'price': '$5.17',\n",
       "  'quantity': '787',\n",
       "  'wname': 'Widget For Strawman'},\n",
       " {'partno': 'ZZ-274',\n",
       "  'price': '$12.39',\n",
       "  'quantity': '895',\n",
       "  'wname': 'Jittery Widget'},\n",
       " {'partno': 'QO-794',\n",
       "  'price': '$14.31',\n",
       "  'quantity': '309',\n",
       "  'wname': 'Silver Widget'},\n",
       " {'partno': 'LH-74/O',\n",
       "  'price': '$6.79',\n",
       "  'quantity': '981',\n",
       "  'wname': 'Divided Widget'},\n",
       " {'partno': 'VK-486',\n",
       "  'price': '$8.97',\n",
       "  'quantity': '441',\n",
       "  'wname': 'Manicurist Widget'},\n",
       " {'partno': 'R4K-990',\n",
       "  'price': '$11.73',\n",
       "  'quantity': '320',\n",
       "  'wname': 'Infinite Widget'},\n",
       " {'partno': 'MZ-556/B',\n",
       "  'price': '$2.35',\n",
       "  'quantity': '948',\n",
       "  'wname': 'Yellow-Tipped Widget'},\n",
       " {'partno': 'QV-730',\n",
       "  'price': '$3.76',\n",
       "  'quantity': '59',\n",
       "  'wname': 'Unshakable Widget'},\n",
       " {'partno': 'T1-9731',\n",
       "  'price': '$7.11',\n",
       "  'quantity': '790',\n",
       "  'wname': 'Self-Knowledge Widget'},\n",
       " {'partno': '5B-941/F',\n",
       "  'price': '$13.26',\n",
       "  'quantity': '919',\n",
       "  'wname': 'Widget For Cinema'}]"
      ]
     },
     "execution_count": 85,
     "metadata": {},
     "output_type": "execute_result"
    }
   ],
   "source": [
    "widgets = []\n",
    "\n",
    "#STEP 1: Find all tr tags, because that's what tds are grouped by\n",
    "for tr_tags in document.find_all('tr', {'class': 'winfo'}):\n",
    "#STEP 2: For each tr_tag in tr_tags, make a dict of its td\n",
    "    tr_dict ={}\n",
    "    for td_tags in tr_tags.find_all('td'):\n",
    "        td_tags_class = td_tags['class']\n",
    "        for tag in td_tags_class:\n",
    "            tr_dict[tag] = td_tags.string\n",
    "#STEP3: add dicts to list\n",
    "    widgets.append(tr_dict)\n",
    "widgets\n",
    "#widgets[5]['partno']"
   ]
  },
  {
   "cell_type": "markdown",
   "metadata": {},
   "source": [
    "In the cell below, duplicate your code from the previous question. Modify the code to ensure that the values for `price` and `quantity` in each dictionary are floating-point numbers and integers, respectively. I.e., after executing the cell, your code should display something like this:\n",
    "\n",
    "    [{'partno': 'C1-9476',\n",
    "      'price': 2.7,\n",
    "      'quantity': 512,\n",
    "      'widgetname': 'Skinner Widget'},\n",
    "     {'partno': 'JDJ-32/V',\n",
    "      'price': 9.36,\n",
    "      'quantity': 967,\n",
    "      'widgetname': 'Widget For Furtiveness'},\n",
    "     ... some items omitted ...\n",
    "     {'partno': '5B-941/F',\n",
    "      'price': 13.26,\n",
    "      'quantity': 919,\n",
    "      'widgetname': 'Widget For Cinema'}]\n",
    "\n",
    "(Hint: Use the `float()` and `int()` functions. You may need to use string slices to convert the `price` field to a floating-point number.)"
   ]
  },
  {
   "cell_type": "code",
   "execution_count": 100,
   "metadata": {
    "collapsed": false
   },
   "outputs": [
    {
     "data": {
      "text/plain": [
       "[{'partno': 'C1-9476',\n",
       "  'price': 2.7,\n",
       "  'quantity': 512,\n",
       "  'wname': 'Skinner Widget'},\n",
       " {'partno': 'JDJ-32/V',\n",
       "  'price': 9.36,\n",
       "  'quantity': 967,\n",
       "  'wname': 'Widget For Furtiveness'},\n",
       " {'partno': 'YP4-325/J',\n",
       "  'price': 5.17,\n",
       "  'quantity': 787,\n",
       "  'wname': 'Widget For Strawman'},\n",
       " {'partno': 'ZZ-274',\n",
       "  'price': 12.39,\n",
       "  'quantity': 895,\n",
       "  'wname': 'Jittery Widget'},\n",
       " {'partno': 'QO-794',\n",
       "  'price': 14.31,\n",
       "  'quantity': 309,\n",
       "  'wname': 'Silver Widget'},\n",
       " {'partno': 'LH-74/O',\n",
       "  'price': 6.79,\n",
       "  'quantity': 981,\n",
       "  'wname': 'Divided Widget'},\n",
       " {'partno': 'VK-486',\n",
       "  'price': 8.97,\n",
       "  'quantity': 441,\n",
       "  'wname': 'Manicurist Widget'},\n",
       " {'partno': 'R4K-990',\n",
       "  'price': 11.73,\n",
       "  'quantity': 320,\n",
       "  'wname': 'Infinite Widget'},\n",
       " {'partno': 'MZ-556/B',\n",
       "  'price': 2.35,\n",
       "  'quantity': 948,\n",
       "  'wname': 'Yellow-Tipped Widget'},\n",
       " {'partno': 'QV-730',\n",
       "  'price': 3.76,\n",
       "  'quantity': 59,\n",
       "  'wname': 'Unshakable Widget'},\n",
       " {'partno': 'T1-9731',\n",
       "  'price': 7.11,\n",
       "  'quantity': 790,\n",
       "  'wname': 'Self-Knowledge Widget'},\n",
       " {'partno': '5B-941/F',\n",
       "  'price': 13.26,\n",
       "  'quantity': 919,\n",
       "  'wname': 'Widget For Cinema'}]"
      ]
     },
     "execution_count": 100,
     "metadata": {},
     "output_type": "execute_result"
    }
   ],
   "source": [
    "#had to rename variables as it kept printing the ones from the cell above...\n",
    "widgetsN = []\n",
    "for trN_tags in document.find_all('tr', {'class': 'winfo'}):\n",
    "    trN_dict ={}\n",
    "    for tdN_tags in trN_tags.find_all('td'):\n",
    "        tdN_tags_class = tdN_tags['class']\n",
    "        for tagN in tdN_tags_class:\n",
    "            if tagN == 'price':\n",
    "                sliced_tag_string = tdN_tags.string[1:]\n",
    "                trN_dict[tagN] = float(sliced_tag_string)\n",
    "            elif tagN == 'quantity':\n",
    "                trN_dict[tagN] = int(tdN_tags.string)\n",
    "            else:\n",
    "                trN_dict[tagN] = tdN_tags.string\n",
    "    widgetsN.append(trN_dict)\n",
    "widgetsN"
   ]
  },
  {
   "cell_type": "markdown",
   "metadata": {},
   "source": [
    "Great! I hope you're having fun. In the cell below, write an expression or series of statements that uses the `widgets` list created in the cell above to calculate the total number of widgets that the factory has in its warehouse.\n",
    "\n",
    "Expected output: `7928`"
   ]
  },
  {
   "cell_type": "code",
   "execution_count": 112,
   "metadata": {
    "collapsed": false
   },
   "outputs": [
    {
     "data": {
      "text/plain": [
       "7928"
      ]
     },
     "execution_count": 112,
     "metadata": {},
     "output_type": "execute_result"
    }
   ],
   "source": [
    "widget_quantity_list = [element['quantity'] for element in widgetsN]\n",
    "sum(widget_quantity_list)"
   ]
  },
  {
   "cell_type": "markdown",
   "metadata": {},
   "source": [
    "In the cell below, write some Python code that prints the names of widgets whose price is above $9.30.\n",
    "\n",
    "Expected output:\n",
    "\n",
    "```\n",
    "Widget For Furtiveness\n",
    "Jittery Widget\n",
    "Silver Widget\n",
    "Infinite Widget\n",
    "Widget For Cinema\n",
    "```"
   ]
  },
  {
   "cell_type": "code",
   "execution_count": 113,
   "metadata": {
    "collapsed": false
   },
   "outputs": [
    {
     "name": "stdout",
     "output_type": "stream",
     "text": [
      "Widget For Furtiveness\n",
      "Jittery Widget\n",
      "Silver Widget\n",
      "Infinite Widget\n",
      "Widget For Cinema\n"
     ]
    }
   ],
   "source": [
    "for widget in widgetsN:\n",
    "    if widget['price'] > 9.30:\n",
    "        print(widget['wname'])"
   ]
  },
  {
   "cell_type": "markdown",
   "metadata": {},
   "source": [
    "## Problem set #3: Sibling rivalries\n",
    "\n",
    "In the following problem set, you will yet again be working with the data in `widgets2016.html`. In order to accomplish the tasks in this problem set, you'll need to learn about Beautiful Soup's `.find_next_sibling()` method. Here's some information about that method, cribbed from the notes:\n",
    "\n",
    "Often, the tags we're looking for don't have a distinguishing characteristic, like a class attribute, that allows us to find them using `.find()` and `.find_all()`, and the tags also aren't in a parent-child relationship. This can be tricky! For example, take the following HTML snippet, (which I've assigned to a string called `example_html`):"
   ]
  },
  {
   "cell_type": "code",
   "execution_count": 114,
   "metadata": {
    "collapsed": false
   },
   "outputs": [],
   "source": [
    "example_html = \"\"\"\n",
    "<h2>Camembert</h2>\n",
    "<p>A soft cheese made in the Camembert region of France.</p>\n",
    "\n",
    "<h2>Cheddar</h2>\n",
    "<p>A yellow cheese made in the Cheddar region of... France, probably, idk whatevs.</p>\n",
    "\"\"\""
   ]
  },
  {
   "cell_type": "markdown",
   "metadata": {},
   "source": [
    "If our task was to create a dictionary that maps the name of the cheese to the description that follows in the `<p>` tag directly afterward, we'd be out of luck. Fortunately, Beautiful Soup has a `.find_next_sibling()` method, which allows us to search for the next tag that is a sibling of the tag you're calling it on (i.e., the two tags share a parent), that also matches particular criteria. So, for example, to accomplish the task outlined above:"
   ]
  },
  {
   "cell_type": "code",
   "execution_count": 115,
   "metadata": {
    "collapsed": false
   },
   "outputs": [
    {
     "data": {
      "text/plain": [
       "{'Camembert': 'A soft cheese made in the Camembert region of France.',\n",
       " 'Cheddar': 'A yellow cheese made in the Cheddar region of... France, probably, idk whatevs.'}"
      ]
     },
     "execution_count": 115,
     "metadata": {},
     "output_type": "execute_result"
    }
   ],
   "source": [
    "example_doc = BeautifulSoup(example_html, \"html.parser\")\n",
    "cheese_dict = {}\n",
    "for h2_tag in example_doc.find_all('h2'):\n",
    "    cheese_name = h2_tag.string\n",
    "    cheese_desc_tag = h2_tag.find_next_sibling('p')\n",
    "    cheese_dict[cheese_name] = cheese_desc_tag.string\n",
    "\n",
    "cheese_dict"
   ]
  },
  {
   "cell_type": "markdown",
   "metadata": {},
   "source": [
    "With that knowledge in mind, let's go back to our widgets. In the cell below, write code that uses Beautiful Soup, and in particular the `.find_next_sibling()` method, to print the part numbers of the widgets that are in the table *just beneath* the header \"Hallowed Widgets.\"\n",
    "\n",
    "Expected output:\n",
    "\n",
    "```\n",
    "MZ-556/B\n",
    "QV-730\n",
    "T1-9731\n",
    "5B-941/F\n",
    "```"
   ]
  },
  {
   "cell_type": "code",
   "execution_count": 116,
   "metadata": {
    "collapsed": false
   },
   "outputs": [
    {
     "name": "stdout",
     "output_type": "stream",
     "text": [
      "MZ-556/B\n",
      "QV-730\n",
      "T1-9731\n",
      "5B-941/F\n"
     ]
    }
   ],
   "source": [
    "for h3_tags in document.find_all('h3'):\n",
    "    if h3_tags.string == 'Hallowed widgets':\n",
    "        hallowed_table = h3_tags.find_next_sibling('table')\n",
    "        for element in hallowed_table.find_all('td', {'class':'partno'}):\n",
    "            print(element.string)"
   ]
  },
  {
   "cell_type": "markdown",
   "metadata": {},
   "source": [
    "Okay, now, the final task. If you can accomplish this, you are truly an expert web scraper. I'll have little web scraper certificates made up and I'll give you one, if you manage to do this thing. And I know you can do it!\n",
    "\n",
    "In the cell below, I've created a variable `category_counts` and assigned to it an empty dictionary. Write code to populate this dictionary so that its keys are \"categories\" of widgets (e.g., the contents of the `<h3>` tags on the page: \"Forensic Widgets\", \"Mood widgets\", \"Hallowed Widgets\") and the value for each key is the number of widgets that occur in that category. I.e., after your code has been executed, the dictionary `category_counts` should look like this:\n",
    "\n",
    "```\n",
    "{'Forensic Widgets': 3,\n",
    " 'Hallowed widgets': 4,\n",
    " 'Mood widgets': 2,\n",
    " 'Wondrous widgets': 3}\n",
    "```"
   ]
  },
  {
   "cell_type": "code",
   "execution_count": 117,
   "metadata": {
    "collapsed": false
   },
   "outputs": [
    {
     "data": {
      "text/plain": [
       "{'Forensic Widgets': 3,\n",
       " 'Hallowed widgets': 4,\n",
       " 'Mood widgets': 2,\n",
       " 'Wondrous widgets': 3}"
      ]
     },
     "execution_count": 117,
     "metadata": {},
     "output_type": "execute_result"
    }
   ],
   "source": [
    "category_counts = {}\n",
    "\n",
    "for x_tags in document.find_all('h3'):\n",
    "    x_table = x_tags.find_next_sibling('table')\n",
    "    tr_info_tags = x_table.find_all('tr', {'class':'winfo'})\n",
    "    category_counts[x_tags.string] = len(tr_info_tags)\n",
    "    \n",
    "category_counts"
   ]
  },
  {
   "cell_type": "markdown",
   "metadata": {},
   "source": [
    "Congratulations! You're done."
   ]
  }
 ],
 "metadata": {
  "kernelspec": {
   "display_name": "Python 3",
   "language": "python",
   "name": "python3"
  },
  "language_info": {
   "codemirror_mode": {
    "name": "ipython",
    "version": 3
   },
   "file_extension": ".py",
   "mimetype": "text/x-python",
   "name": "python",
   "nbconvert_exporter": "python",
   "pygments_lexer": "ipython3",
   "version": "3.5.1"
  }
 },
 "nbformat": 4,
 "nbformat_minor": 0
}
