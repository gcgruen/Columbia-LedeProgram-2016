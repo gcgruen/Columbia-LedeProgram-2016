{
 "cells": [
  {
   "cell_type": "code",
   "execution_count": 20,
   "metadata": {
    "collapsed": false
   },
   "outputs": [],
   "source": [
    "# X[0] = pedal_length\n",
    "# X[1] = pedal_width\n",
    "\n",
    "def iris_tree(p_length, p_width):\n",
    "    if p_length <= 2.45:\n",
    "        target = \"species 1\"\n",
    "    else:\n",
    "        if p_width <= 1.75:\n",
    "            if p_length <= 4.95:\n",
    "                if p_width <= 1.65:\n",
    "                    target = \"species 2\"\n",
    "                else:\n",
    "                    target = \"species 3\"\n",
    "            else:\n",
    "                if p_width <=1.55:\n",
    "                    target = \"species 3\"\n",
    "                else:\n",
    "                    if p_length <= 5.45:\n",
    "                        target = \"species 2\"\n",
    "                    else:\n",
    "                        target = \"species 3\"\n",
    "        else:\n",
    "             target = \"species 3\"\n",
    "    return target"
   ]
  },
  {
   "cell_type": "code",
   "execution_count": 21,
   "metadata": {
    "collapsed": false
   },
   "outputs": [
    {
     "data": {
      "text/plain": [
       "'species 2'"
      ]
     },
     "execution_count": 21,
     "metadata": {},
     "output_type": "execute_result"
    }
   ],
   "source": [
    "iris_tree(4.5, 1.51)"
   ]
  },
  {
   "cell_type": "code",
   "execution_count": null,
   "metadata": {
    "collapsed": true
   },
   "outputs": [],
   "source": []
  }
 ],
 "metadata": {
  "kernelspec": {
   "display_name": "Python 3",
   "language": "python",
   "name": "python3"
  },
  "language_info": {
   "codemirror_mode": {
    "name": "ipython",
    "version": 3
   },
   "file_extension": ".py",
   "mimetype": "text/x-python",
   "name": "python",
   "nbconvert_exporter": "python",
   "pygments_lexer": "ipython3",
   "version": "3.5.1"
  }
 },
 "nbformat": 4,
 "nbformat_minor": 0
}
