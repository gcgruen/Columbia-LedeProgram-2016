 {
 "cells": [
  {
   "cell_type": "code",
   "execution_count": 3,
   "metadata": {
    "collapsed": true
   },
   "outputs": [],
   "source": [
    "#split on weight first -- most pure -- doesn't need a third variable as input (age variable left out)\n",
    "def simpsons_gender1(hair, weight):\n",
    "    if weight <= 160:\n",
    "        if hair <= 2:\n",
    "            gender = \"male\"\n",
    "        else:\n",
    "            gender = \"female\"\n",
    "    else:\n",
    "        gender = \"male\"\n",
    "    return gender"
   ]
  },
  {
   "cell_type": "code",
   "execution_count": 8,
   "metadata": {
    "collapsed": false
   },
   "outputs": [
    {
     "data": {
      "text/plain": [
       "'male'"
      ]
     },
     "execution_count": 8,
     "metadata": {},
     "output_type": "execute_result"
    }
   ],
   "source": [
    "simpsons_gender1(8,290,38)"
   ]
  },
  {
   "cell_type": "code",
   "execution_count": 4,
   "metadata": {
    "collapsed": true
   },
   "outputs": [],
   "source": [
    "#split on hair first -- needs all three variables\n",
    "def simpsons_gender2(hair, weight, age):\n",
    "    if hair <= 5:\n",
    "        if age < 2:\n",
    "            gender = \"female\"\n",
    "        else:\n",
    "            gender = \"male\"\n",
    "    else:\n",
    "        if weight >= 180:\n",
    "            gender = \"male\"\n",
    "        else:\n",
    "            gender = \"female\"\n",
    "    return gender"
   ]
  },
  {
   "cell_type": "code",
   "execution_count": 7,
   "metadata": {
    "collapsed": false
   },
   "outputs": [
    {
     "data": {
      "text/plain": [
       "'male'"
      ]
     },
     "execution_count": 7,
     "metadata": {},
     "output_type": "execute_result"
    }
   ],
   "source": [
    "simpsons_gender2(8,290,38)"
   ]
  },
  {
   "cell_type": "code",
   "execution_count": 5,
   "metadata": {
    "collapsed": true
   },
   "outputs": [],
   "source": [
    "#split on age -- most complex\n",
    "def simpsons_gender3(hair, weight, age):\n",
    "    if age < 40:\n",
    "        if weight <=160:\n",
    "            gender = \"female\"\n",
    "        else:\n",
    "            gender = \"male\"\n",
    "    else:\n",
    "        if weight <= 180:\n",
    "            gender = \"male\"\n",
    "        else:\n",
    "            if hair <= 2:\n",
    "                gender = \"male\"\n",
    "            else:\n",
    "                gender = \"female\"\n",
    "    return gender"
   ]
  },
  {
   "cell_type": "code",
   "execution_count": 6,
   "metadata": {
    "collapsed": false
   },
   "outputs": [
    {
     "data": {
      "text/plain": [
       "'male'"
      ]
     },
     "execution_count": 6,
     "metadata": {},
     "output_type": "execute_result"
    }
   ],
   "source": [
    "simpsons_gender3(8,290,38)"
   ]
  },
  {
   "cell_type": "code",
   "execution_count": null,
   "metadata": {
    "collapsed": true
   },
   "outputs": [],
   "source": []
  }
 ],
 "metadata": {
  "kernelspec": {
   "display_name": "Python 3",
   "language": "python",
   "name": "python3"
  },
  "language_info": {
   "codemirror_mode": {
    "name": "ipython",
    "version": 3
   },
   "file_extension": ".py",
   "mimetype": "text/x-python",
   "name": "python",
   "nbconvert_exporter": "python",
   "pygments_lexer": "ipython3",
   "version": "3.5.1"
  }
 },
 "nbformat": 4,
 "nbformat_minor": 0
}
