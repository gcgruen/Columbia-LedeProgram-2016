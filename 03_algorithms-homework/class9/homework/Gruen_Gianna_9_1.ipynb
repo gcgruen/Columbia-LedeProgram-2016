{
 "cells": [
  {
   "cell_type": "code",
   "execution_count": 2,
   "metadata": {
    "collapsed": true
   },
   "outputs": [],
   "source": [
    "import numpy as np\n",
    "import random\n",
    "from sklearn import metrics\n",
    "from sklearn import datasets\n",
    "from sklearn import tree"
   ]
  },
  {
   "cell_type": "code",
   "execution_count": 3,
   "metadata": {
    "collapsed": false
   },
   "outputs": [],
   "source": [
    "iris = datasets.load_iris()\n",
    "# iris['data']"
   ]
  },
  {
   "cell_type": "code",
   "execution_count": 4,
   "metadata": {
    "collapsed": true
   },
   "outputs": [],
   "source": [
    "x = iris.data[:,2:]\n",
    "y = iris.target"
   ]
  },
  {
   "cell_type": "code",
   "execution_count": 5,
   "metadata": {
    "collapsed": false
   },
   "outputs": [],
   "source": [
    "score_list = []\n",
    "\n",
    "#shuffle data\n",
    "linked_iris_data = list(zip(x, y))\n",
    "random.shuffle(linked_iris_data)\n",
    "x, y = zip(*linked_iris_data)\n",
    "\n",
    "#split data into 5 parts\n",
    "k = 5\n",
    "subset_size = (len(linked_iris_data)/k) - 1\n",
    "\n",
    "for i in range(0,k):\n",
    "\n",
    "    x_test = x[int(subset_size * i): int(subset_size * (i+1))]\n",
    "    y_test = y[int(subset_size * i): int(subset_size * (i+1))]\n",
    "\n",
    "    #hold out a different portion as training data\n",
    "    x_train = x[:int(subset_size * i)] + x[int(subset_size * (i+1)):]\n",
    "    y_train = y[:int(subset_size * i)] + y[int(subset_size * (i+1)):]\n",
    "\n",
    "    #fit on the train data\n",
    "    dt = tree.DecisionTreeClassifier().fit(x_train,y_train)\n",
    "\n",
    "    #run on test data\n",
    "    y_pred = dt.predict(x_test)\n",
    "    score = metrics.accuracy_score(y_test, y_pred)\n",
    "\n",
    "    #return score, append it to list\n",
    "    score_list.append(score)"
   ]
  },
  {
   "cell_type": "code",
   "execution_count": 6,
   "metadata": {
    "collapsed": false
   },
   "outputs": [
    {
     "data": {
      "text/plain": [
       "[1.0,\n",
       " 0.93103448275862066,\n",
       " 0.96551724137931039,\n",
       " 0.96551724137931039,\n",
       " 0.93103448275862066]"
      ]
     },
     "execution_count": 6,
     "metadata": {},
     "output_type": "execute_result"
    }
   ],
   "source": [
    "score_list"
   ]
  },
  {
   "cell_type": "code",
   "execution_count": 7,
   "metadata": {
    "collapsed": false
   },
   "outputs": [
    {
     "data": {
      "text/plain": [
       "0.95862068965517244"
      ]
     },
     "execution_count": 7,
     "metadata": {},
     "output_type": "execute_result"
    }
   ],
   "source": [
    "average_score = sum(score_list)/len(score_list)\n",
    "average_score"
   ]
  },
  {
   "cell_type": "code",
   "execution_count": null,
   "metadata": {
    "collapsed": false
   },
   "outputs": [],
   "source": []
  },
  {
   "cell_type": "markdown",
   "metadata": {},
   "source": [
    "# Testing my code against sklearn"
   ]
  },
  {
   "cell_type": "code",
   "execution_count": 29,
   "metadata": {
    "collapsed": true
   },
   "outputs": [],
   "source": [
    "from sklearn.cross_validation import cross_val_score"
   ]
  },
  {
   "cell_type": "code",
   "execution_count": 30,
   "metadata": {
    "collapsed": false
   },
   "outputs": [],
   "source": [
    "scores = cross_val_score(dt,x,y,cv=5)"
   ]
  },
  {
   "cell_type": "code",
   "execution_count": 31,
   "metadata": {
    "collapsed": false
   },
   "outputs": [
    {
     "data": {
      "text/plain": [
       "0.94666666666666666"
      ]
     },
     "execution_count": 31,
     "metadata": {},
     "output_type": "execute_result"
    }
   ],
   "source": [
    "np.mean(scores)"
   ]
  },
  {
   "cell_type": "code",
   "execution_count": null,
   "metadata": {
    "collapsed": true
   },
   "outputs": [],
   "source": [
    "# results are slightly different -- I guess that's due to differently shuffeling that sorts the data differently."
   ]
  }
 ],
 "metadata": {
  "kernelspec": {
   "display_name": "Python 3",
   "language": "python",
   "name": "python3"
  },
  "language_info": {
   "codemirror_mode": {
    "name": "ipython",
    "version": 3
   },
   "file_extension": ".py",
   "mimetype": "text/x-python",
   "name": "python",
   "nbconvert_exporter": "python",
   "pygments_lexer": "ipython3",
   "version": "3.5.1"
  }
 },
 "nbformat": 4,
 "nbformat_minor": 0
}
