{
 "cells": [
  {
   "cell_type": "code",
   "execution_count": 1,
   "metadata": {
    "collapsed": false
   },
   "outputs": [],
   "source": [
    "import pandas as pd                   # data management\n",
    "import matplotlib.pyplot as plt       # graphics \n",
    "import matplotlib as mpl              # graphics parameters\n",
    "import numpy as np                    # numerical calculations \n",
    "%matplotlib inline\n",
    "\n",
    "from numpy._distributor_init import NUMPY_MKL\n",
    "import scipy as sp \n",
    "from scipy import stats"
   ]
  },
  {
   "cell_type": "markdown",
   "metadata": {},
   "source": [
    "## 2.7 Contigency Table Example\n",
    "\n",
    "** Relation between 'Education lvl' & 'Belief in Alien' **\n",
    "\n",
    "\n",
    "Condition  \n",
    "    * Sample size 261, Random  \n",
    "    * Variable A : 'Belief in Alien'  \n",
    "    * Variable B : 'Education level'  \n",
    "    * Survey A : Do you believe Alien ? YES, MAYBE, NO  \n",
    "    * Survey B : Choose your education level? HIGH, MEDIUM, LOW  \n",
    "\n",
    "Question : Is A & B correlated?\n",
    "\n",
    "* Step 01. Assess the level of measurement  \n",
    "If measued in Ordinal lvl --> Contingency Table\n",
    "  * Note : Scatterplot, Pearson's R, OLS Regression only available if varaiable are measured **\"QUANTITATIVELY\"**\n",
    "\n",
    "\n"
   ]
  },
  {
   "cell_type": "markdown",
   "metadata": {},
   "source": [
    "### Survery Result"
   ]
  },
  {
   "cell_type": "code",
   "execution_count": 2,
   "metadata": {
    "collapsed": true
   },
   "outputs": [],
   "source": [
    "# df = pd.DataFrame({'high':[25,17,8],'.medium':[31,38,40],'.low':[12,26,64]} ,index=['yes','maybe','no'])"
   ]
  },
  {
   "cell_type": "code",
   "execution_count": 3,
   "metadata": {
    "collapsed": false
   },
   "outputs": [],
   "source": [
    "# Example \n",
    "sample_list = [25,31,12,17,38,26,8,40,64]\n",
    "ex01 = pd.DataFrame(np.asarray(sample_list).reshape(3,3),index=['yes','maybe','no'],columns = ['high','medium','low'])"
   ]
  },
  {
   "cell_type": "code",
   "execution_count": 4,
   "metadata": {
    "collapsed": false
   },
   "outputs": [
    {
     "data": {
      "text/html": [
       "<div>\n",
       "<table border=\"1\" class=\"dataframe\">\n",
       "  <thead>\n",
       "    <tr style=\"text-align: right;\">\n",
       "      <th></th>\n",
       "      <th>high</th>\n",
       "      <th>medium</th>\n",
       "      <th>low</th>\n",
       "    </tr>\n",
       "  </thead>\n",
       "  <tbody>\n",
       "    <tr>\n",
       "      <th>yes</th>\n",
       "      <td>25</td>\n",
       "      <td>31</td>\n",
       "      <td>12</td>\n",
       "    </tr>\n",
       "    <tr>\n",
       "      <th>maybe</th>\n",
       "      <td>17</td>\n",
       "      <td>38</td>\n",
       "      <td>26</td>\n",
       "    </tr>\n",
       "    <tr>\n",
       "      <th>no</th>\n",
       "      <td>8</td>\n",
       "      <td>40</td>\n",
       "      <td>64</td>\n",
       "    </tr>\n",
       "  </tbody>\n",
       "</table>\n",
       "</div>"
      ],
      "text/plain": [
       "       high  medium  low\n",
       "yes      25      31   12\n",
       "maybe    17      38   26\n",
       "no        8      40   64"
      ]
     },
     "execution_count": 4,
     "metadata": {},
     "output_type": "execute_result"
    }
   ],
   "source": [
    "ex01"
   ]
  },
  {
   "cell_type": "code",
   "execution_count": 5,
   "metadata": {
    "collapsed": false
   },
   "outputs": [
    {
     "name": "stdout",
     "output_type": "stream",
     "text": [
      "high       50\n",
      "medium    109\n",
      "low       102\n",
      "Total     261\n",
      "dtype: int64\n"
     ]
    },
    {
     "data": {
      "text/html": [
       "<div>\n",
       "<table border=\"1\" class=\"dataframe\">\n",
       "  <thead>\n",
       "    <tr style=\"text-align: right;\">\n",
       "      <th></th>\n",
       "      <th>high</th>\n",
       "      <th>medium</th>\n",
       "      <th>low</th>\n",
       "      <th>Total</th>\n",
       "    </tr>\n",
       "  </thead>\n",
       "  <tbody>\n",
       "    <tr>\n",
       "      <th>yes</th>\n",
       "      <td>25</td>\n",
       "      <td>31</td>\n",
       "      <td>12</td>\n",
       "      <td>68</td>\n",
       "    </tr>\n",
       "    <tr>\n",
       "      <th>maybe</th>\n",
       "      <td>17</td>\n",
       "      <td>38</td>\n",
       "      <td>26</td>\n",
       "      <td>81</td>\n",
       "    </tr>\n",
       "    <tr>\n",
       "      <th>no</th>\n",
       "      <td>8</td>\n",
       "      <td>40</td>\n",
       "      <td>64</td>\n",
       "      <td>112</td>\n",
       "    </tr>\n",
       "  </tbody>\n",
       "</table>\n",
       "</div>"
      ],
      "text/plain": [
       "       high  medium  low  Total\n",
       "yes      25      31   12     68\n",
       "maybe    17      38   26     81\n",
       "no        8      40   64    112"
      ]
     },
     "execution_count": 5,
     "metadata": {},
     "output_type": "execute_result"
    }
   ],
   "source": [
    "ex01['Total'] = ex01.sum(axis=1) # Total of row\n",
    "print(ex01.sum())\n",
    "\n",
    "ex01"
   ]
  },
  {
   "cell_type": "code",
   "execution_count": 6,
   "metadata": {
    "collapsed": false
   },
   "outputs": [
    {
     "data": {
      "text/html": [
       "<div>\n",
       "<table border=\"1\" class=\"dataframe\">\n",
       "  <thead>\n",
       "    <tr style=\"text-align: right;\">\n",
       "      <th></th>\n",
       "      <th>high</th>\n",
       "      <th>medium</th>\n",
       "      <th>low</th>\n",
       "      <th>Total</th>\n",
       "    </tr>\n",
       "  </thead>\n",
       "  <tbody>\n",
       "    <tr>\n",
       "      <th>yes</th>\n",
       "      <td>0.50</td>\n",
       "      <td>0.284404</td>\n",
       "      <td>0.117647</td>\n",
       "      <td>0.260536</td>\n",
       "    </tr>\n",
       "    <tr>\n",
       "      <th>maybe</th>\n",
       "      <td>0.34</td>\n",
       "      <td>0.348624</td>\n",
       "      <td>0.254902</td>\n",
       "      <td>0.310345</td>\n",
       "    </tr>\n",
       "    <tr>\n",
       "      <th>no</th>\n",
       "      <td>0.16</td>\n",
       "      <td>0.366972</td>\n",
       "      <td>0.627451</td>\n",
       "      <td>0.429119</td>\n",
       "    </tr>\n",
       "  </tbody>\n",
       "</table>\n",
       "</div>"
      ],
      "text/plain": [
       "       high    medium       low     Total\n",
       "yes    0.50  0.284404  0.117647  0.260536\n",
       "maybe  0.34  0.348624  0.254902  0.310345\n",
       "no     0.16  0.366972  0.627451  0.429119"
      ]
     },
     "execution_count": 6,
     "metadata": {},
     "output_type": "execute_result"
    }
   ],
   "source": [
    "contingency_table = ex01/ex01.sum()\n",
    "contingency_table"
   ]
  },
  {
   "cell_type": "markdown",
   "metadata": {},
   "source": [
    "What do these percentages show us?\n",
    "\n",
    "\n",
    "Low level of education  :  only 12% agrees however, 63% disagrees with this statement  \n",
    "High level of education :  w50% agrees with the claim whereas only 16% disagrees with this claim. \n",
    "\n",
    "These percentages indicate that not the lower educated, but the higher educated are more likely to believe in extraterrestrial life. "
   ]
  },
  {
   "cell_type": "code",
   "execution_count": 7,
   "metadata": {
    "collapsed": false
   },
   "outputs": [
    {
     "data": {
      "text/html": [
       "<div>\n",
       "<table border=\"1\" class=\"dataframe\">\n",
       "  <thead>\n",
       "    <tr style=\"text-align: right;\">\n",
       "      <th></th>\n",
       "      <th>high</th>\n",
       "      <th>medium</th>\n",
       "      <th>low</th>\n",
       "      <th>Total</th>\n",
       "    </tr>\n",
       "  </thead>\n",
       "  <tbody>\n",
       "    <tr>\n",
       "      <th>yes</th>\n",
       "      <td>25</td>\n",
       "      <td>31</td>\n",
       "      <td>12</td>\n",
       "      <td>68</td>\n",
       "    </tr>\n",
       "    <tr>\n",
       "      <th>maybe</th>\n",
       "      <td>17</td>\n",
       "      <td>38</td>\n",
       "      <td>26</td>\n",
       "      <td>81</td>\n",
       "    </tr>\n",
       "    <tr>\n",
       "      <th>no</th>\n",
       "      <td>8</td>\n",
       "      <td>40</td>\n",
       "      <td>64</td>\n",
       "      <td>112</td>\n",
       "    </tr>\n",
       "    <tr>\n",
       "      <th>total</th>\n",
       "      <td>50</td>\n",
       "      <td>109</td>\n",
       "      <td>102</td>\n",
       "      <td>261</td>\n",
       "    </tr>\n",
       "  </tbody>\n",
       "</table>\n",
       "</div>"
      ],
      "text/plain": [
       "       high  medium  low  Total\n",
       "yes      25      31   12     68\n",
       "maybe    17      38   26     81\n",
       "no        8      40   64    112\n",
       "total    50     109  102    261"
      ]
     },
     "execution_count": 7,
     "metadata": {},
     "output_type": "execute_result"
    }
   ],
   "source": [
    "# Side Note. Pd.df에서 column sum 줄 넣기\n",
    "ex01.loc['total']= ex01.sum() # Total of column\n",
    "ex01"
   ]
  },
  {
   "cell_type": "code",
   "execution_count": 8,
   "metadata": {
    "collapsed": false
   },
   "outputs": [
    {
     "data": {
      "text/plain": [
       "high       50\n",
       "medium    109\n",
       "low       102\n",
       "Total     261\n",
       "dtype: int64"
      ]
     },
     "execution_count": 8,
     "metadata": {},
     "output_type": "execute_result"
    }
   ],
   "source": [
    "# 위와 같은 df에서 마지막 줄을 빼고 sum()을 하고 싶다면?\n",
    "ex01.loc[ex01.index != 'total'].sum()"
   ]
  },
  {
   "cell_type": "markdown",
   "metadata": {},
   "source": [
    "## 2.8 Regression and Pearson's R Example\n",
    "\n",
    "** Relation between 'height' & 'approaval ratings of US presidents' **\n",
    "\n",
    "Condition  \n",
    "    * Variable A : 'height'  \n",
    "    * Variable B : 'approaval ratings of US presidents'  \n",
    "    * Variable C : 'US presidents'\n",
    "\n",
    "Data table Given\n",
    "\n",
    "Questions.\n",
    "1. is there a linear relationship between the two variables?\n",
    "2. what is the size of Pearson's r correlation coefficient? \n",
    "3. what do the regression equation and the regression line look like? \n",
    "4. what is the size of r-squared? \n"
   ]
  },
  {
   "cell_type": "code",
   "execution_count": 9,
   "metadata": {
    "collapsed": false
   },
   "outputs": [
    {
     "data": {
      "text/html": [
       "<div>\n",
       "<table border=\"1\" class=\"dataframe\">\n",
       "  <thead>\n",
       "    <tr style=\"text-align: right;\">\n",
       "      <th></th>\n",
       "      <th>approval_rating</th>\n",
       "      <th>height</th>\n",
       "    </tr>\n",
       "  </thead>\n",
       "  <tbody>\n",
       "    <tr>\n",
       "      <th>Obama</th>\n",
       "      <td>47.0</td>\n",
       "      <td>185</td>\n",
       "    </tr>\n",
       "    <tr>\n",
       "      <th>Bush_jr</th>\n",
       "      <td>49.9</td>\n",
       "      <td>182</td>\n",
       "    </tr>\n",
       "    <tr>\n",
       "      <th>Clinton</th>\n",
       "      <td>55.1</td>\n",
       "      <td>188</td>\n",
       "    </tr>\n",
       "    <tr>\n",
       "      <th>Bush_sr</th>\n",
       "      <td>60.9</td>\n",
       "      <td>188</td>\n",
       "    </tr>\n",
       "  </tbody>\n",
       "</table>\n",
       "</div>"
      ],
      "text/plain": [
       "         approval_rating  height\n",
       "Obama               47.0     185\n",
       "Bush_jr             49.9     182\n",
       "Clinton             55.1     188\n",
       "Bush_sr             60.9     188"
      ]
     },
     "execution_count": 9,
     "metadata": {},
     "output_type": "execute_result"
    }
   ],
   "source": [
    "df = pd.DataFrame({'height':[185,182,188,188],'approval_rating':[47,49.9,55.1,60.9]} ,index=['Obama','Bush_jr','Clinton','Bush_sr'])\n",
    "df"
   ]
  },
  {
   "cell_type": "code",
   "execution_count": 10,
   "metadata": {
    "collapsed": false
   },
   "outputs": [],
   "source": [
    "# Example  Data Table\n",
    "sample_list = [185,47,182,49.9,188,55.1,188,60.9]\n",
    "ex02 = pd.DataFrame(np.asarray(sample_list).reshape(4,2),\n",
    "                    index=['Obama','Bush_jr','Clinton','Bush_sr'],columns = ['height','approval_rating'])"
   ]
  },
  {
   "cell_type": "code",
   "execution_count": 11,
   "metadata": {
    "collapsed": false
   },
   "outputs": [
    {
     "data": {
      "text/html": [
       "<div>\n",
       "<table border=\"1\" class=\"dataframe\">\n",
       "  <thead>\n",
       "    <tr style=\"text-align: right;\">\n",
       "      <th></th>\n",
       "      <th>height</th>\n",
       "      <th>approval_rating</th>\n",
       "    </tr>\n",
       "  </thead>\n",
       "  <tbody>\n",
       "    <tr>\n",
       "      <th>Obama</th>\n",
       "      <td>185.0</td>\n",
       "      <td>47.0</td>\n",
       "    </tr>\n",
       "    <tr>\n",
       "      <th>Bush_jr</th>\n",
       "      <td>182.0</td>\n",
       "      <td>49.9</td>\n",
       "    </tr>\n",
       "    <tr>\n",
       "      <th>Clinton</th>\n",
       "      <td>188.0</td>\n",
       "      <td>55.1</td>\n",
       "    </tr>\n",
       "    <tr>\n",
       "      <th>Bush_sr</th>\n",
       "      <td>188.0</td>\n",
       "      <td>60.9</td>\n",
       "    </tr>\n",
       "  </tbody>\n",
       "</table>\n",
       "</div>"
      ],
      "text/plain": [
       "         height  approval_rating\n",
       "Obama     185.0             47.0\n",
       "Bush_jr   182.0             49.9\n",
       "Clinton   188.0             55.1\n",
       "Bush_sr   188.0             60.9"
      ]
     },
     "execution_count": 11,
     "metadata": {},
     "output_type": "execute_result"
    }
   ],
   "source": [
    "ex02"
   ]
  },
  {
   "cell_type": "markdown",
   "metadata": {},
   "source": []
  },
  {
   "cell_type": "code",
   "execution_count": 12,
   "metadata": {
    "collapsed": false
   },
   "outputs": [],
   "source": [
    "# 1. Linerar relationship?\n",
    "# Scatter plot\n",
    "# height           >> Independent variable 'x'\n",
    "# approval rating  >> dependent variable 'y'\n",
    "\n",
    "x = 'height'\n",
    "y = 'approval_rating'\n"
   ]
  },
  {
   "cell_type": "code",
   "execution_count": 13,
   "metadata": {
    "collapsed": false
   },
   "outputs": [
    {
     "name": "stdout",
     "output_type": "stream",
     "text": [
      " \n",
      "1.561 x - 236.7\n"
     ]
    }
   ],
   "source": [
    "coefficients = np.polyfit(ex02[x], ex02[y], 1)\n",
    "polynomial = np.poly1d(coefficients) # regression \n",
    "print (polynomial)"
   ]
  },
  {
   "cell_type": "code",
   "execution_count": 14,
   "metadata": {
    "collapsed": false
   },
   "outputs": [],
   "source": [
    "# plotting 이해를 위해 try한것\n",
    "# ys = polynomial(ex02[x])\n",
    "# print (coefficients)\n",
    "# plt.plot(ex02[x], ex02[y], 'o')\n",
    "# plt.plot(ex02[x], ys)\n",
    "# ex02.plot.scatter(x='height', y='approval_rating')"
   ]
  },
  {
   "cell_type": "code",
   "execution_count": 15,
   "metadata": {
    "collapsed": false
   },
   "outputs": [],
   "source": [
    "# function 만들기전 iterrow 기능확인\n",
    "# for index,row in ex02.iterrows():\n",
    "#     print ('01',index, type(index))\n",
    "#     print('02',row,'Type is', type(row),'\\nLength:',len(row))"
   ]
  },
  {
   "cell_type": "code",
   "execution_count": 16,
   "metadata": {
    "collapsed": false
   },
   "outputs": [],
   "source": [
    "def plot_correlation( ds, x, y): # Dataframe, dependent variable, independent variable\n",
    "    # Scatterplot\n",
    "    plt.xlim(180,190)\n",
    "    plt.ylim(45,65)\n",
    "    plt.scatter(ds[x], ds[y], s=100, c='g',alpha = 0.5) # s 는 점의 크기, alpha 는 투명도\n",
    "    for index, row in ds.iterrows(): # ite\n",
    "        plt.text(row[x], row[y], index) # row[x] 와 row[y] 의 좌표에 index 내용을 표시할것.\n",
    "    plt.xlabel(x) # label x \n",
    "    plt.ylabel(y) # label y\n",
    "    # Correlation \n",
    "    regression = np.poly1d(np.polyfit(ds[x], ds[y], 1)) # 1st degree trendline\n",
    "    plt.plot(ds[x], regression(ds[x]), color='r') \n",
    "    r = sp.stats.pearsonr(ds[x],ds[y])\n",
    "    plt.text(181, 60,'r={}\\n{}'.format(r[0],regression), color = 'r' )\n",
    "    plt.tight_layout()"
   ]
  },
  {
   "cell_type": "code",
   "execution_count": 17,
   "metadata": {
    "collapsed": false
   },
   "outputs": [
    {
     "data": {
      "image/png": "[encoded data removed]",
      "text/plain": [
       "<matplotlib.figure.Figure at 0x9505cf8>"
      ]
     },
     "metadata": {},
     "output_type": "display_data"
    }
   ],
   "source": [
    "plot_correlation(ex02,x,y)"
   ]
  },
  {
   "cell_type": "markdown",
   "metadata": {
    "collapsed": true
   },
   "source": [
    "**Pearson's r ?**\n",
    "r = sum(ZxZy)/(n-1)\n",
    "\n",
    "* To compute Pearson's r, we need this formula.  \n",
    "* To start with, we need to compute all the z-scores of both our IV and DV.    \n",
    "* we need the means and standard deviations of these variables.  \n"
   ]
  },
  {
   "cell_type": "code",
   "execution_count": 32,
   "metadata": {
    "collapsed": false
   },
   "outputs": [
    {
     "name": "stdout",
     "output_type": "stream",
     "text": [
      "185.75 53.225 2.87228132327 6.11630334979\n"
     ]
    }
   ],
   "source": [
    "# step 01. mean and std\n",
    "\n",
    "Sx = ex02['height'].std()\n",
    "Sy = ex02['approval_rating'].std()\n",
    "Mx = ex02['height'].mean()\n",
    "My = ex02['approval_rating'].mean()\n",
    "\n",
    "print(Mx,My,Sx,Sy,)"
   ]
  },
  {
   "cell_type": "code",
   "execution_count": 19,
   "metadata": {
    "collapsed": true
   },
   "outputs": [],
   "source": [
    "# step 02. calculate z score\n",
    "# example) Obama_height_zscore = ( 180 - 185 )/ 185.75 = -0.261\n",
    "cols = list(df.columns)\n",
    "for col in cols:\n",
    "    col_zscore = col + '_zscore'\n",
    "    df[col_zscore] = (df[col] - df[col].mean())/df[col].std() \n"
   ]
  },
  {
   "cell_type": "code",
   "execution_count": 21,
   "metadata": {
    "collapsed": false
   },
   "outputs": [
    {
     "data": {
      "text/html": [
       "<div>\n",
       "<table border=\"1\" class=\"dataframe\">\n",
       "  <thead>\n",
       "    <tr style=\"text-align: right;\">\n",
       "      <th></th>\n",
       "      <th>approval_rating</th>\n",
       "      <th>height</th>\n",
       "      <th>approval_rating_zscore</th>\n",
       "      <th>height_zscore</th>\n",
       "      <th>ZxZy</th>\n",
       "    </tr>\n",
       "  </thead>\n",
       "  <tbody>\n",
       "    <tr>\n",
       "      <th>Obama</th>\n",
       "      <td>47.0</td>\n",
       "      <td>185</td>\n",
       "      <td>-1.017772</td>\n",
       "      <td>-0.261116</td>\n",
       "      <td>0.265757</td>\n",
       "    </tr>\n",
       "    <tr>\n",
       "      <th>Bush_jr</th>\n",
       "      <td>49.9</td>\n",
       "      <td>182</td>\n",
       "      <td>-0.543629</td>\n",
       "      <td>-1.305582</td>\n",
       "      <td>0.709752</td>\n",
       "    </tr>\n",
       "    <tr>\n",
       "      <th>Clinton</th>\n",
       "      <td>55.1</td>\n",
       "      <td>188</td>\n",
       "      <td>0.306558</td>\n",
       "      <td>0.783349</td>\n",
       "      <td>0.240142</td>\n",
       "    </tr>\n",
       "    <tr>\n",
       "      <th>Bush_sr</th>\n",
       "      <td>60.9</td>\n",
       "      <td>188</td>\n",
       "      <td>1.254843</td>\n",
       "      <td>0.783349</td>\n",
       "      <td>0.982981</td>\n",
       "    </tr>\n",
       "  </tbody>\n",
       "</table>\n",
       "</div>"
      ],
      "text/plain": [
       "         approval_rating  height  approval_rating_zscore  height_zscore  \\\n",
       "Obama               47.0     185               -1.017772      -0.261116   \n",
       "Bush_jr             49.9     182               -0.543629      -1.305582   \n",
       "Clinton             55.1     188                0.306558       0.783349   \n",
       "Bush_sr             60.9     188                1.254843       0.783349   \n",
       "\n",
       "             ZxZy  \n",
       "Obama    0.265757  \n",
       "Bush_jr  0.709752  \n",
       "Clinton  0.240142  \n",
       "Bush_sr  0.982981  "
      ]
     },
     "execution_count": 21,
     "metadata": {},
     "output_type": "execute_result"
    }
   ],
   "source": [
    "df['ZxZy'] = df['approval_rating_zscore']*df['height_zscore']"
   ]
  },
  {
   "cell_type": "code",
   "execution_count": 33,
   "metadata": {
    "collapsed": false
   },
   "outputs": [
    {
     "data": {
      "text/plain": [
       "0.73287726008754428"
      ]
     },
     "execution_count": 33,
     "metadata": {},
     "output_type": "execute_result"
    }
   ],
   "source": [
    "pearson_r = df['ZxZy'].sum()/(len(df['ZxZy'])-1)\n",
    "pearson_r"
   ]
  },
  {
   "cell_type": "code",
   "execution_count": 39,
   "metadata": {
    "collapsed": false
   },
   "outputs": [
    {
     "name": "stdout",
     "output_type": "stream",
     "text": [
      "-236.657575758 1.56060606061\n"
     ]
    }
   ],
   "source": [
    "# step 03. regression equation and regression line\n",
    "# regression slope b = r(Sy/Sx)\n",
    "# intercept a = My - b(Mx)\n",
    "# regression line ^y(y_hat) = a + bx\n",
    "\n",
    "b = pearson_r * (Sy/Sx)\n",
    "a = My - b*Mx\n",
    "\n",
    "print(a,b)"
   ]
  },
  {
   "cell_type": "code",
   "execution_count": 42,
   "metadata": {
    "collapsed": false
   },
   "outputs": [
    {
     "data": {
      "text/plain": [
       "0.53710907835342603"
      ]
     },
     "execution_count": 42,
     "metadata": {},
     "output_type": "execute_result"
    }
   ],
   "source": [
    "# step 04. r_square\n",
    "r_square = (pearson_r)**2\n",
    "r_square\n",
    "\n",
    "# interpretation\n",
    "#  01. the prediction error is 53% smaller when the regression line is used than employ the mean of the dv. \n",
    "#  02. 53% of the variation, or the variance in the dv, is explained by our independent variable. "
   ]
  },
  {
   "cell_type": "code",
   "execution_count": 47,
   "metadata": {
    "collapsed": false
   },
   "outputs": [
    {
     "data": {
      "text/plain": [
       "(-0.96448564434082429, 0.0079912110820662616)"
      ]
     },
     "execution_count": 47,
     "metadata": {},
     "output_type": "execute_result"
    }
   ],
   "source": [
    "list01 = [2, 4, 1.5, 2, 3]\n",
    "list02 = [7, 3, 8, 8, 6] \n",
    "r2 = sp.stats.pearsonr(list01,list02)  # Returns (Pearson’s correlation coefficient,2-tailed p-value)\n",
    "r2"
   ]
  }
 ],
 "metadata": {
  "kernelspec": {
   "display_name": "Python 3",
   "language": "python",
   "name": "python3"
  },
  "language_info": {
   "codemirror_mode": {
    "name": "ipython",
    "version": 3
   },
   "file_extension": ".py",
   "mimetype": "text/x-python",
   "name": "python",
   "nbconvert_exporter": "python",
   "pygments_lexer": "ipython3",
   "version": "3.5.1"
  }
 },
 "nbformat": 4,
 "nbformat_minor": 0
}
