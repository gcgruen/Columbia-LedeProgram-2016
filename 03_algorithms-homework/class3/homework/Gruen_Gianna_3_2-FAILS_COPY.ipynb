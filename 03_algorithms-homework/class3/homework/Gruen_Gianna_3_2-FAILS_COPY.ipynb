{
 "cells": [
  {
   "cell_type": "code",
   "execution_count": 94,
   "metadata": {
    "collapsed": true
   },
   "outputs": [],
   "source": [
    "import random"
   ]
  },
  {
   "cell_type": "markdown",
   "metadata": {},
   "source": [
    "# Search Algorithm"
   ]
  },
  {
   "cell_type": "code",
   "execution_count": 95,
   "metadata": {
    "collapsed": true
   },
   "outputs": [],
   "source": [
    "# Input: Number and a list of numbers that comes sorted \n",
    "#(in case it would not, just make the sort algorithm part of the below function)\n",
    "# Output: Index of the number that was put in"
   ]
  },
  {
   "cell_type": "code",
   "execution_count": 96,
   "metadata": {
    "collapsed": true
   },
   "outputs": [],
   "source": [
    "# pseudocode:\n",
    "# iterate over the input list\n",
    "# each time, compare the number for the searched one\n",
    "# if they are identical\n",
    "# check for the position of that element within the list\n",
    "# if there's no match\n",
    "# return 'not found'"
   ]
  },
  {
   "cell_type": "code",
   "execution_count": 170,
   "metadata": {
    "collapsed": false
   },
   "outputs": [],
   "source": [
    "def search_function(chosen_number, input_list):\n",
    "    input_list.sort()\n",
    "#Checking whether the number is in the list\n",
    "    if chosen_number >= input_list[0] and chosen_number <= input_list[int(len(input_list)-1)]:\n",
    "\n",
    "#In case the number is in the list, check whether it is in the middle position:\n",
    "        middle_index = int((len(input_list)-1)/2)\n",
    "        \n",
    "        if chosen_number == input_list[middle_index]:\n",
    "            print(middle_index)\n",
    "\n",
    "#In case the number is in the list, check whether it is in the last position:\n",
    "        if chosen_number == input_list[int((len(input_list)-1))]:\n",
    "            print(int(len(input_list)-1))\n",
    "        \n",
    "        sub = 1\n",
    "#In case it is not, check whether it is bigger than the number at the middle position of list       \n",
    "        if chosen_number > input_list[int(middle_index)]:\n",
    "#Setting lower search range limit to number at middle position of list\n",
    "            lower_boundary = input_list[middle_index]\n",
    "#Setting upper search range limit to last element of the list\n",
    "            upper_boundary = input_list[int(len(input_list)-1)]\n",
    "#While that number is still between lower and upper boundary...\n",
    "            while chosen_number > lower_boundary and chosen_number <= upper_boundary:\n",
    "#...decrease the upper limit to next largest element of the list\n",
    "#...decrease the lower limit to next smallest element of the list\n",
    "                sub = sub + 1\n",
    "                upper_boundary = input_list[int(len(input_list)-sub)]\n",
    "                lower_boundary = input_list[middle_index+sub]\n",
    "#Once the upper boundary equals the chosen number, return its position\n",
    "                if chosen_number == upper_boundary or chosen_number == lower_boundary:\n",
    "                    print(int(len(input_list)-sub))\n",
    "            \n",
    "#If neither of the above cases is true, then the chosen is smaller than the figure at the middle position...        \n",
    "        else:\n",
    "#...therefore the upper limit is the middle position\n",
    "            upper_boundary = input_list[middle_index]\n",
    "            lower_boundary = input_list[0]\n",
    "            sub = 1\n",
    "#while the chosen number is smaller than the upper boundary...\n",
    "            while chosen_number <= upper_boundary and chosen_number > lower_boundary:\n",
    "#...lower the upper boundary by increasing the divisor\n",
    "                upper_boundary = input_list[middle_index-sub]\n",
    "                lower_boundary = input_list[0+sub]\n",
    "                sub = sub + 1\n",
    "#Once the upper boundary equals the chosen number, divide the length of the list by the divisor \n",
    "#to get the number's index\n",
    "                if chosen_number == upper_boundary or chosen_number == lower_boundary:\n",
    "                    print(sub-1)\n",
    "                \n",
    "#In case the chosen number is not part of the list:\n",
    "    else:\n",
    "        print(\"Number not found in list\")"
   ]
  },
  {
   "cell_type": "code",
   "execution_count": 173,
   "metadata": {
    "collapsed": false
   },
   "outputs": [
    {
     "name": "stdout",
     "output_type": "stream",
     "text": [
      "13\n"
     ]
    }
   ],
   "source": [
    "search_function(37, test_list_100)"
   ]
  },
  {
   "cell_type": "code",
   "execution_count": 108,
   "metadata": {
    "collapsed": true
   },
   "outputs": [],
   "source": [
    "# http://stackoverflow.com/questions/14608015/how-to-check-if-a-specific-integer-is-in-a-list\n",
    "\n",
    "# CODE VERSION 2 that is working, using if/in and index\n",
    "def search_function2(chosen_number2, input_list2):\n",
    "    if chosen_number2 in input_list2:\n",
    "        print(input_list2.index(chosen_number2))\n",
    "    else:\n",
    "        print(\"Number not within the list\")"
   ]
  },
  {
   "cell_type": "code",
   "execution_count": null,
   "metadata": {
    "collapsed": true
   },
   "outputs": [],
   "source": [
    "def search_function3(chosen_number, input_list):\n",
    "    input_list.sort()\n",
    "    index_middle = int((len(input_list)-1)/2)\n",
    "    if chosen_number >= input_list[0] and chosen_number <= input_list[int(len(input_list)-1)]:\n",
    "        \n",
    "        sub = 1\n",
    "#In case it is not, check whether it is bigger than the number at the middle position of list       \n",
    "        if chosen_number > input_list[int((len(input_list)-1)/2)]:\n",
    "#Setting lower search range limit to number at middle position of list\n",
    "            lower_boundary = input_list[int((len(input_list)-1)/2)]\n",
    "#Setting upper search range limit to last element of the list\n",
    "            upper_boundary = input_list[int(len(input_list)-1)]\n",
    "#While that number is still between lower and upper boundary...\n",
    "            while chosen_number > lower_boundary and chosen_number <= upper_boundary:\n",
    "#...decrease the upper limit to next largest element of the list\n",
    "#...decrease the lower limit to next smallest element of the list\n",
    "                sub = sub + 1\n",
    "                upper_boundary = input_list[int(len(input_list)-sub)]\n",
    "                lower_boundary = input_list[int((len(input_list)-1)/2)+sub]\n",
    "#Once the upper boundary equals the chosen number, return its position\n",
    "                if chosen_number == upper_boundary:\n",
    "                    print(int(len(input_list)-sub))\n",
    "            \n",
    "#If neither of the above cases is true, then the chosen is smaller than the figure at the middle position...        \n",
    "        else:            \n",
    "#...therefore the upper limit is the middle position\n",
    "            upper_boundary = input_list[int((len(input_list)-1)/2)]\n",
    "            divisor = 2\n",
    "#while the chosen number is smaller than the upper boundary...\n",
    "            while chosen_number < upper_boundary:\n",
    "#...lower the upper boundary by increasing the divisor\n",
    "                upper_boundary = input_list[int((len(input_list)-1)/divisor)]\n",
    "                divisor = divisor + 1\n",
    "#Once the upper boundary equals the chosen number, divide the length of the list by the divisor \n",
    "#to get the number's index\n",
    "                if chosen_number == upper_boundary:\n",
    "                    print(int((len(input_list))/divisor))\n",
    "                \n",
    "#In case the chosen number is not part of the list:\n",
    "    else:\n",
    "        print(\"Number not found in list\")"
   ]
  },
  {
   "cell_type": "code",
   "execution_count": 254,
   "metadata": {
    "collapsed": true
   },
   "outputs": [],
   "source": [
    "def search_function5(chosen_number, input_list):\n",
    "    input_list.sort()\n",
    "    if chosen_number >= input_list[0] and chosen_number <= input_list[int(len(input_list)-1)]: \n",
    "        \n",
    "        start_number = input_list[0]\n",
    "        end_number = input_list[int(len(input_list)-1)]\n",
    "        \n",
    "        sub = 1\n",
    "        while chosen_number >= start_number and chosen_number < end_number:\n",
    "            start_number = input_list[0+sub]\n",
    "            end_number = input_list[int(len(input_list)-sub)]\n",
    "            sub = sub + 1\n",
    "        if end_number == chosen_number:\n",
    "            print(int(len(input_list)-sub))\n",
    "    else:\n",
    "        print(\"Number not found in list\")"
   ]
  },
  {
   "cell_type": "code",
   "execution_count": 259,
   "metadata": {
    "collapsed": false
   },
   "outputs": [],
   "source": [
    "search_function5(1, test_list_10)"
   ]
  },
  {
   "cell_type": "code",
   "execution_count": null,
   "metadata": {
    "collapsed": true
   },
   "outputs": [],
   "source": []
  },
  {
   "cell_type": "markdown",
   "metadata": {},
   "source": [
    "# Testing runtime"
   ]
  },
  {
   "cell_type": "code",
   "execution_count": 109,
   "metadata": {
    "collapsed": false
   },
   "outputs": [],
   "source": [
    "test_list_10 = random.sample(range(1, 11),10)\n",
    "test_list_100 = random.sample(range(1, 101), 100)\n",
    "test_list_1000 = random.sample(range(1, 1001), 1000)"
   ]
  },
  {
   "cell_type": "code",
   "execution_count": 137,
   "metadata": {
    "collapsed": false
   },
   "outputs": [
    {
     "name": "stdout",
     "output_type": "stream",
     "text": [
      "1\n",
      "CPU times: user 64 µs, sys: 1 µs, total: 65 µs\n",
      "Wall time: 68.9 µs\n",
      "1\n",
      "CPU times: user 18 µs, sys: 1 µs, total: 19 µs\n",
      "Wall time: 23.1 µs\n"
     ]
    }
   ],
   "source": [
    "%time search_function(2, test_list_10)\n",
    "%time search_function2(2, test_list_10)"
   ]
  },
  {
   "cell_type": "code",
   "execution_count": null,
   "metadata": {
    "collapsed": true
   },
   "outputs": [],
   "source": []
  }
 ],
 "metadata": {
  "kernelspec": {
   "display_name": "Python 3",
   "language": "python",
   "name": "python3"
  },
  "language_info": {
   "codemirror_mode": {
    "name": "ipython",
    "version": 3
   },
   "file_extension": ".py",
   "mimetype": "text/x-python",
   "name": "python",
   "nbconvert_exporter": "python",
   "pygments_lexer": "ipython3",
   "version": "3.5.1"
  }
 },
 "nbformat": 4,
 "nbformat_minor": 0
}
